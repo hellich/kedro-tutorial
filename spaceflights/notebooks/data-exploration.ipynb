{
 "cells": [
  {
   "cell_type": "code",
   "execution_count": 1,
   "id": "1b4d381e-0b60-4fbf-9448-5478a0eaa80d",
   "metadata": {},
   "outputs": [
    {
     "name": "stdout",
     "output_type": "stream",
     "text": [
      "Requirement already satisfied: kedro-datasets[pandas] in c:\\users\\33659\\appdata\\roaming\\mamba\\envs\\spaceflights310\\lib\\site-packages (5.1.0)\n",
      "Requirement already satisfied: kedro>=0.19.7 in c:\\users\\33659\\appdata\\roaming\\mamba\\envs\\spaceflights310\\lib\\site-packages (from kedro-datasets[pandas]) (0.19.9)\n",
      "Requirement already satisfied: lazy-loader in c:\\users\\33659\\appdata\\roaming\\mamba\\envs\\spaceflights310\\lib\\site-packages (from kedro-datasets[pandas]) (0.4)\n",
      "Requirement already satisfied: attrs>=21.3 in c:\\users\\33659\\appdata\\roaming\\mamba\\envs\\spaceflights310\\lib\\site-packages (from kedro>=0.19.7->kedro-datasets[pandas]) (24.2.0)\n",
      "Requirement already satisfied: build>=0.7.0 in c:\\users\\33659\\appdata\\roaming\\mamba\\envs\\spaceflights310\\lib\\site-packages (from kedro>=0.19.7->kedro-datasets[pandas]) (1.2.2.post1)\n",
      "Requirement already satisfied: cachetools>=4.1 in c:\\users\\33659\\appdata\\roaming\\mamba\\envs\\spaceflights310\\lib\\site-packages (from kedro>=0.19.7->kedro-datasets[pandas]) (5.5.0)\n",
      "Requirement already satisfied: click>=4.0 in c:\\users\\33659\\appdata\\roaming\\mamba\\envs\\spaceflights310\\lib\\site-packages (from kedro>=0.19.7->kedro-datasets[pandas]) (8.1.7)\n",
      "Requirement already satisfied: cookiecutter<3.0,>=2.1.1 in c:\\users\\33659\\appdata\\roaming\\mamba\\envs\\spaceflights310\\lib\\site-packages (from kedro>=0.19.7->kedro-datasets[pandas]) (2.6.0)\n",
      "Requirement already satisfied: dynaconf<4.0,>=3.1.2 in c:\\users\\33659\\appdata\\roaming\\mamba\\envs\\spaceflights310\\lib\\site-packages (from kedro>=0.19.7->kedro-datasets[pandas]) (3.2.6)\n",
      "Requirement already satisfied: fsspec>=2021.4 in c:\\users\\33659\\appdata\\roaming\\mamba\\envs\\spaceflights310\\lib\\site-packages (from kedro>=0.19.7->kedro-datasets[pandas]) (2024.10.0)\n",
      "Requirement already satisfied: gitpython>=3.0 in c:\\users\\33659\\appdata\\roaming\\mamba\\envs\\spaceflights310\\lib\\site-packages (from kedro>=0.19.7->kedro-datasets[pandas]) (3.0.6)\n",
      "Requirement already satisfied: importlib-metadata<9.0,>=3.6 in c:\\users\\33659\\appdata\\roaming\\mamba\\envs\\spaceflights310\\lib\\site-packages (from kedro>=0.19.7->kedro-datasets[pandas]) (8.5.0)\n",
      "Requirement already satisfied: importlib-resources<7.0,>=1.3 in c:\\users\\33659\\appdata\\roaming\\mamba\\envs\\spaceflights310\\lib\\site-packages (from kedro>=0.19.7->kedro-datasets[pandas]) (6.4.5)\n",
      "Requirement already satisfied: kedro-telemetry>=0.5.0 in c:\\users\\33659\\appdata\\roaming\\mamba\\envs\\spaceflights310\\lib\\site-packages (from kedro>=0.19.7->kedro-datasets[pandas]) (0.6.1)\n",
      "Requirement already satisfied: more-itertools>=8.14.0 in c:\\users\\33659\\appdata\\roaming\\mamba\\envs\\spaceflights310\\lib\\site-packages (from kedro>=0.19.7->kedro-datasets[pandas]) (10.5.0)\n",
      "Requirement already satisfied: omegaconf>=2.1.1 in c:\\users\\33659\\appdata\\roaming\\mamba\\envs\\spaceflights310\\lib\\site-packages (from kedro>=0.19.7->kedro-datasets[pandas]) (2.3.0)\n",
      "Requirement already satisfied: parse>=1.19.0 in c:\\users\\33659\\appdata\\roaming\\mamba\\envs\\spaceflights310\\lib\\site-packages (from kedro>=0.19.7->kedro-datasets[pandas]) (1.20.2)\n",
      "Requirement already satisfied: pluggy>=1.0 in c:\\users\\33659\\appdata\\roaming\\mamba\\envs\\spaceflights310\\lib\\site-packages (from kedro>=0.19.7->kedro-datasets[pandas]) (1.5.0)\n",
      "Requirement already satisfied: pre-commit-hooks in c:\\users\\33659\\appdata\\roaming\\mamba\\envs\\spaceflights310\\lib\\site-packages (from kedro>=0.19.7->kedro-datasets[pandas]) (5.0.0)\n",
      "Requirement already satisfied: PyYAML<7.0,>=4.2 in c:\\users\\33659\\appdata\\roaming\\mamba\\envs\\spaceflights310\\lib\\site-packages (from kedro>=0.19.7->kedro-datasets[pandas]) (6.0.2)\n",
      "Requirement already satisfied: rich<14.0,>=12.0 in c:\\users\\33659\\appdata\\roaming\\mamba\\envs\\spaceflights310\\lib\\site-packages (from kedro>=0.19.7->kedro-datasets[pandas]) (13.9.4)\n",
      "Requirement already satisfied: rope<2.0,>=0.21 in c:\\users\\33659\\appdata\\roaming\\mamba\\envs\\spaceflights310\\lib\\site-packages (from kedro>=0.19.7->kedro-datasets[pandas]) (1.13.0)\n",
      "Requirement already satisfied: toml>=0.10.0 in c:\\users\\33659\\appdata\\roaming\\mamba\\envs\\spaceflights310\\lib\\site-packages (from kedro>=0.19.7->kedro-datasets[pandas]) (0.10.2)\n",
      "Requirement already satisfied: typing-extensions>=4.0 in c:\\users\\33659\\appdata\\roaming\\mamba\\envs\\spaceflights310\\lib\\site-packages (from kedro>=0.19.7->kedro-datasets[pandas]) (4.12.2)\n",
      "Requirement already satisfied: tables>=3.6 in c:\\users\\33659\\appdata\\roaming\\mamba\\envs\\spaceflights310\\lib\\site-packages (from kedro-datasets[pandas]) (3.10.1)\n",
      "Requirement already satisfied: deltalake>=0.10.0 in c:\\users\\33659\\appdata\\roaming\\mamba\\envs\\spaceflights310\\lib\\site-packages (from kedro-datasets[pandas]) (0.22.0)\n",
      "Requirement already satisfied: SQLAlchemy<3.0,>=1.4 in c:\\users\\33659\\appdata\\roaming\\mamba\\envs\\spaceflights310\\lib\\site-packages (from kedro-datasets[pandas]) (2.0.36)\n",
      "Requirement already satisfied: pyodbc>=4.0 in c:\\users\\33659\\appdata\\roaming\\mamba\\envs\\spaceflights310\\lib\\site-packages (from kedro-datasets[pandas]) (5.2.0)\n",
      "Requirement already satisfied: pyarrow>=6.0 in c:\\users\\33659\\appdata\\roaming\\mamba\\envs\\spaceflights310\\lib\\site-packages (from kedro-datasets[pandas]) (18.0.0)\n",
      "Requirement already satisfied: lxml~=4.6 in c:\\users\\33659\\appdata\\roaming\\mamba\\envs\\spaceflights310\\lib\\site-packages (from kedro-datasets[pandas]) (4.9.4)\n",
      "Requirement already satisfied: openpyxl<4.0,>=3.0.6 in c:\\users\\33659\\appdata\\roaming\\mamba\\envs\\spaceflights310\\lib\\site-packages (from kedro-datasets[pandas]) (3.1.5)\n",
      "Requirement already satisfied: pandas-gbq>=0.12.0 in c:\\users\\33659\\appdata\\roaming\\mamba\\envs\\spaceflights310\\lib\\site-packages (from kedro-datasets[pandas]) (0.24.0)\n",
      "Requirement already satisfied: packaging in c:\\users\\33659\\appdata\\roaming\\mamba\\envs\\spaceflights310\\lib\\site-packages (from lazy-loader->kedro-datasets[pandas]) (24.2)\n",
      "Requirement already satisfied: pyproject_hooks in c:\\users\\33659\\appdata\\roaming\\mamba\\envs\\spaceflights310\\lib\\site-packages (from build>=0.7.0->kedro>=0.19.7->kedro-datasets[pandas]) (1.2.0)\n",
      "Requirement already satisfied: colorama in c:\\users\\33659\\appdata\\roaming\\mamba\\envs\\spaceflights310\\lib\\site-packages (from build>=0.7.0->kedro>=0.19.7->kedro-datasets[pandas]) (0.4.6)\n",
      "Requirement already satisfied: tomli>=1.1.0 in c:\\users\\33659\\appdata\\roaming\\mamba\\envs\\spaceflights310\\lib\\site-packages (from build>=0.7.0->kedro>=0.19.7->kedro-datasets[pandas]) (2.1.0)\n",
      "Requirement already satisfied: binaryornot>=0.4.4 in c:\\users\\33659\\appdata\\roaming\\mamba\\envs\\spaceflights310\\lib\\site-packages (from cookiecutter<3.0,>=2.1.1->kedro>=0.19.7->kedro-datasets[pandas]) (0.4.4)\n",
      "Requirement already satisfied: Jinja2<4.0.0,>=2.7 in c:\\users\\33659\\appdata\\roaming\\mamba\\envs\\spaceflights310\\lib\\site-packages (from cookiecutter<3.0,>=2.1.1->kedro>=0.19.7->kedro-datasets[pandas]) (3.1.4)\n",
      "Requirement already satisfied: python-slugify>=4.0.0 in c:\\users\\33659\\appdata\\roaming\\mamba\\envs\\spaceflights310\\lib\\site-packages (from cookiecutter<3.0,>=2.1.1->kedro>=0.19.7->kedro-datasets[pandas]) (8.0.4)\n",
      "Requirement already satisfied: requests>=2.23.0 in c:\\users\\33659\\appdata\\roaming\\mamba\\envs\\spaceflights310\\lib\\site-packages (from cookiecutter<3.0,>=2.1.1->kedro>=0.19.7->kedro-datasets[pandas]) (2.32.3)\n",
      "Requirement already satisfied: arrow in c:\\users\\33659\\appdata\\roaming\\mamba\\envs\\spaceflights310\\lib\\site-packages (from cookiecutter<3.0,>=2.1.1->kedro>=0.19.7->kedro-datasets[pandas]) (1.3.0)\n",
      "Requirement already satisfied: gitdb2>=2.0.0 in c:\\users\\33659\\appdata\\roaming\\mamba\\envs\\spaceflights310\\lib\\site-packages (from gitpython>=3.0->kedro>=0.19.7->kedro-datasets[pandas]) (4.0.2)\n",
      "Requirement already satisfied: zipp>=3.20 in c:\\users\\33659\\appdata\\roaming\\mamba\\envs\\spaceflights310\\lib\\site-packages (from importlib-metadata<9.0,>=3.6->kedro>=0.19.7->kedro-datasets[pandas]) (3.21.0)\n",
      "Requirement already satisfied: appdirs>=1.4.4 in c:\\users\\33659\\appdata\\roaming\\mamba\\envs\\spaceflights310\\lib\\site-packages (from kedro-telemetry>=0.5.0->kedro>=0.19.7->kedro-datasets[pandas]) (1.4.4)\n",
      "Requirement already satisfied: antlr4-python3-runtime==4.9.* in c:\\users\\33659\\appdata\\roaming\\mamba\\envs\\spaceflights310\\lib\\site-packages (from omegaconf>=2.1.1->kedro>=0.19.7->kedro-datasets[pandas]) (4.9.3)\n",
      "Requirement already satisfied: et-xmlfile in c:\\users\\33659\\appdata\\roaming\\mamba\\envs\\spaceflights310\\lib\\site-packages (from openpyxl<4.0,>=3.0.6->kedro-datasets[pandas]) (2.0.0)\n",
      "Requirement already satisfied: setuptools in c:\\users\\33659\\appdata\\roaming\\mamba\\envs\\spaceflights310\\lib\\site-packages (from pandas-gbq>=0.12.0->kedro-datasets[pandas]) (75.6.0)\n",
      "Requirement already satisfied: db-dtypes<2.0.0,>=1.0.4 in c:\\users\\33659\\appdata\\roaming\\mamba\\envs\\spaceflights310\\lib\\site-packages (from pandas-gbq>=0.12.0->kedro-datasets[pandas]) (1.3.1)\n",
      "Requirement already satisfied: numpy>=1.18.1 in c:\\users\\33659\\appdata\\roaming\\mamba\\envs\\spaceflights310\\lib\\site-packages (from pandas-gbq>=0.12.0->kedro-datasets[pandas]) (2.1.3)\n",
      "Requirement already satisfied: pandas>=1.1.4 in c:\\users\\33659\\appdata\\roaming\\mamba\\envs\\spaceflights310\\lib\\site-packages (from pandas-gbq>=0.12.0->kedro-datasets[pandas]) (2.2.3)\n",
      "Requirement already satisfied: pydata-google-auth>=1.5.0 in c:\\users\\33659\\appdata\\roaming\\mamba\\envs\\spaceflights310\\lib\\site-packages (from pandas-gbq>=0.12.0->kedro-datasets[pandas]) (1.9.0)\n",
      "Requirement already satisfied: google-api-core<3.0.0dev,>=2.10.2 in c:\\users\\33659\\appdata\\roaming\\mamba\\envs\\spaceflights310\\lib\\site-packages (from pandas-gbq>=0.12.0->kedro-datasets[pandas]) (2.23.0)\n",
      "Requirement already satisfied: google-auth>=2.13.0 in c:\\users\\33659\\appdata\\roaming\\mamba\\envs\\spaceflights310\\lib\\site-packages (from pandas-gbq>=0.12.0->kedro-datasets[pandas]) (2.36.0)\n",
      "Requirement already satisfied: google-auth-oauthlib>=0.7.0 in c:\\users\\33659\\appdata\\roaming\\mamba\\envs\\spaceflights310\\lib\\site-packages (from pandas-gbq>=0.12.0->kedro-datasets[pandas]) (1.2.1)\n",
      "Requirement already satisfied: google-cloud-bigquery<4.0.0dev,>=3.4.2 in c:\\users\\33659\\appdata\\roaming\\mamba\\envs\\spaceflights310\\lib\\site-packages (from pandas-gbq>=0.12.0->kedro-datasets[pandas]) (3.27.0)\n",
      "Requirement already satisfied: markdown-it-py>=2.2.0 in c:\\users\\33659\\appdata\\roaming\\mamba\\envs\\spaceflights310\\lib\\site-packages (from rich<14.0,>=12.0->kedro>=0.19.7->kedro-datasets[pandas]) (3.0.0)\n",
      "Requirement already satisfied: pygments<3.0.0,>=2.13.0 in c:\\users\\33659\\appdata\\roaming\\mamba\\envs\\spaceflights310\\lib\\site-packages (from rich<14.0,>=12.0->kedro>=0.19.7->kedro-datasets[pandas]) (2.18.0)\n",
      "Requirement already satisfied: pytoolconfig>=1.2.2 in c:\\users\\33659\\appdata\\roaming\\mamba\\envs\\spaceflights310\\lib\\site-packages (from pytoolconfig[global]>=1.2.2->rope<2.0,>=0.21->kedro>=0.19.7->kedro-datasets[pandas]) (1.3.1)\n",
      "Requirement already satisfied: greenlet!=0.4.17 in c:\\users\\33659\\appdata\\roaming\\mamba\\envs\\spaceflights310\\lib\\site-packages (from SQLAlchemy<3.0,>=1.4->kedro-datasets[pandas]) (3.1.1)\n",
      "Requirement already satisfied: numexpr>=2.6.2 in c:\\users\\33659\\appdata\\roaming\\mamba\\envs\\spaceflights310\\lib\\site-packages (from tables>=3.6->kedro-datasets[pandas]) (2.10.2)\n",
      "Requirement already satisfied: py-cpuinfo in c:\\users\\33659\\appdata\\roaming\\mamba\\envs\\spaceflights310\\lib\\site-packages (from tables>=3.6->kedro-datasets[pandas]) (9.0.0)\n",
      "Requirement already satisfied: blosc2>=2.3.0 in c:\\users\\33659\\appdata\\roaming\\mamba\\envs\\spaceflights310\\lib\\site-packages (from tables>=3.6->kedro-datasets[pandas]) (2.7.1)\n",
      "Requirement already satisfied: ruamel.yaml>=0.15 in c:\\users\\33659\\appdata\\roaming\\mamba\\envs\\spaceflights310\\lib\\site-packages (from pre-commit-hooks->kedro>=0.19.7->kedro-datasets[pandas]) (0.18.6)\n",
      "Requirement already satisfied: chardet>=3.0.2 in c:\\users\\33659\\appdata\\roaming\\mamba\\envs\\spaceflights310\\lib\\site-packages (from binaryornot>=0.4.4->cookiecutter<3.0,>=2.1.1->kedro>=0.19.7->kedro-datasets[pandas]) (5.2.0)\n",
      "Requirement already satisfied: ndindex>=1.4 in c:\\users\\33659\\appdata\\roaming\\mamba\\envs\\spaceflights310\\lib\\site-packages (from blosc2>=2.3.0->tables>=3.6->kedro-datasets[pandas]) (1.9.2)\n",
      "Requirement already satisfied: msgpack in c:\\users\\33659\\appdata\\roaming\\mamba\\envs\\spaceflights310\\lib\\site-packages (from blosc2>=2.3.0->tables>=3.6->kedro-datasets[pandas]) (1.1.0)\n",
      "Requirement already satisfied: gitdb>=4.0.1 in c:\\users\\33659\\appdata\\roaming\\mamba\\envs\\spaceflights310\\lib\\site-packages (from gitdb2>=2.0.0->gitpython>=3.0->kedro>=0.19.7->kedro-datasets[pandas]) (4.0.11)\n",
      "Requirement already satisfied: googleapis-common-protos<2.0.dev0,>=1.56.2 in c:\\users\\33659\\appdata\\roaming\\mamba\\envs\\spaceflights310\\lib\\site-packages (from google-api-core<3.0.0dev,>=2.10.2->pandas-gbq>=0.12.0->kedro-datasets[pandas]) (1.66.0)\n",
      "Requirement already satisfied: protobuf!=3.20.0,!=3.20.1,!=4.21.0,!=4.21.1,!=4.21.2,!=4.21.3,!=4.21.4,!=4.21.5,<6.0.0.dev0,>=3.19.5 in c:\\users\\33659\\appdata\\roaming\\mamba\\envs\\spaceflights310\\lib\\site-packages (from google-api-core<3.0.0dev,>=2.10.2->pandas-gbq>=0.12.0->kedro-datasets[pandas]) (5.28.3)\n",
      "Requirement already satisfied: proto-plus<2.0.0dev,>=1.22.3 in c:\\users\\33659\\appdata\\roaming\\mamba\\envs\\spaceflights310\\lib\\site-packages (from google-api-core<3.0.0dev,>=2.10.2->pandas-gbq>=0.12.0->kedro-datasets[pandas]) (1.25.0)\n",
      "Requirement already satisfied: pyasn1-modules>=0.2.1 in c:\\users\\33659\\appdata\\roaming\\mamba\\envs\\spaceflights310\\lib\\site-packages (from google-auth>=2.13.0->pandas-gbq>=0.12.0->kedro-datasets[pandas]) (0.4.1)\n",
      "Requirement already satisfied: rsa<5,>=3.1.4 in c:\\users\\33659\\appdata\\roaming\\mamba\\envs\\spaceflights310\\lib\\site-packages (from google-auth>=2.13.0->pandas-gbq>=0.12.0->kedro-datasets[pandas]) (4.9)\n",
      "Requirement already satisfied: requests-oauthlib>=0.7.0 in c:\\users\\33659\\appdata\\roaming\\mamba\\envs\\spaceflights310\\lib\\site-packages (from google-auth-oauthlib>=0.7.0->pandas-gbq>=0.12.0->kedro-datasets[pandas]) (2.0.0)\n",
      "Requirement already satisfied: google-cloud-core<3.0.0dev,>=2.4.1 in c:\\users\\33659\\appdata\\roaming\\mamba\\envs\\spaceflights310\\lib\\site-packages (from google-cloud-bigquery<4.0.0dev,>=3.4.2->pandas-gbq>=0.12.0->kedro-datasets[pandas]) (2.4.1)\n",
      "Requirement already satisfied: google-resumable-media<3.0dev,>=2.0.0 in c:\\users\\33659\\appdata\\roaming\\mamba\\envs\\spaceflights310\\lib\\site-packages (from google-cloud-bigquery<4.0.0dev,>=3.4.2->pandas-gbq>=0.12.0->kedro-datasets[pandas]) (2.7.2)\n",
      "Requirement already satisfied: python-dateutil<3.0dev,>=2.7.3 in c:\\users\\33659\\appdata\\roaming\\mamba\\envs\\spaceflights310\\lib\\site-packages (from google-cloud-bigquery<4.0.0dev,>=3.4.2->pandas-gbq>=0.12.0->kedro-datasets[pandas]) (2.9.0.post0)\n",
      "Requirement already satisfied: MarkupSafe>=2.0 in c:\\users\\33659\\appdata\\roaming\\mamba\\envs\\spaceflights310\\lib\\site-packages (from Jinja2<4.0.0,>=2.7->cookiecutter<3.0,>=2.1.1->kedro>=0.19.7->kedro-datasets[pandas]) (3.0.2)\n",
      "Requirement already satisfied: mdurl~=0.1 in c:\\users\\33659\\appdata\\roaming\\mamba\\envs\\spaceflights310\\lib\\site-packages (from markdown-it-py>=2.2.0->rich<14.0,>=12.0->kedro>=0.19.7->kedro-datasets[pandas]) (0.1.2)\n",
      "Requirement already satisfied: pytz>=2020.1 in c:\\users\\33659\\appdata\\roaming\\mamba\\envs\\spaceflights310\\lib\\site-packages (from pandas>=1.1.4->pandas-gbq>=0.12.0->kedro-datasets[pandas]) (2024.2)\n",
      "Requirement already satisfied: tzdata>=2022.7 in c:\\users\\33659\\appdata\\roaming\\mamba\\envs\\spaceflights310\\lib\\site-packages (from pandas>=1.1.4->pandas-gbq>=0.12.0->kedro-datasets[pandas]) (2024.2)\n",
      "Requirement already satisfied: text-unidecode>=1.3 in c:\\users\\33659\\appdata\\roaming\\mamba\\envs\\spaceflights310\\lib\\site-packages (from python-slugify>=4.0.0->cookiecutter<3.0,>=2.1.1->kedro>=0.19.7->kedro-datasets[pandas]) (1.3)\n",
      "Requirement already satisfied: platformdirs>=3.11.0 in c:\\users\\33659\\appdata\\roaming\\mamba\\envs\\spaceflights310\\lib\\site-packages (from pytoolconfig[global]>=1.2.2->rope<2.0,>=0.21->kedro>=0.19.7->kedro-datasets[pandas]) (4.3.6)\n",
      "Requirement already satisfied: charset-normalizer<4,>=2 in c:\\users\\33659\\appdata\\roaming\\mamba\\envs\\spaceflights310\\lib\\site-packages (from requests>=2.23.0->cookiecutter<3.0,>=2.1.1->kedro>=0.19.7->kedro-datasets[pandas]) (3.4.0)\n",
      "Requirement already satisfied: idna<4,>=2.5 in c:\\users\\33659\\appdata\\roaming\\mamba\\envs\\spaceflights310\\lib\\site-packages (from requests>=2.23.0->cookiecutter<3.0,>=2.1.1->kedro>=0.19.7->kedro-datasets[pandas]) (3.10)\n",
      "Requirement already satisfied: urllib3<3,>=1.21.1 in c:\\users\\33659\\appdata\\roaming\\mamba\\envs\\spaceflights310\\lib\\site-packages (from requests>=2.23.0->cookiecutter<3.0,>=2.1.1->kedro>=0.19.7->kedro-datasets[pandas]) (2.2.3)\n",
      "Requirement already satisfied: certifi>=2017.4.17 in c:\\users\\33659\\appdata\\roaming\\mamba\\envs\\spaceflights310\\lib\\site-packages (from requests>=2.23.0->cookiecutter<3.0,>=2.1.1->kedro>=0.19.7->kedro-datasets[pandas]) (2024.8.30)\n",
      "Requirement already satisfied: ruamel.yaml.clib>=0.2.7 in c:\\users\\33659\\appdata\\roaming\\mamba\\envs\\spaceflights310\\lib\\site-packages (from ruamel.yaml>=0.15->pre-commit-hooks->kedro>=0.19.7->kedro-datasets[pandas]) (0.2.12)\n",
      "Requirement already satisfied: types-python-dateutil>=2.8.10 in c:\\users\\33659\\appdata\\roaming\\mamba\\envs\\spaceflights310\\lib\\site-packages (from arrow->cookiecutter<3.0,>=2.1.1->kedro>=0.19.7->kedro-datasets[pandas]) (2.9.0.20241003)\n",
      "Requirement already satisfied: smmap<6,>=3.0.1 in c:\\users\\33659\\appdata\\roaming\\mamba\\envs\\spaceflights310\\lib\\site-packages (from gitdb>=4.0.1->gitdb2>=2.0.0->gitpython>=3.0->kedro>=0.19.7->kedro-datasets[pandas]) (5.0.1)\n",
      "Requirement already satisfied: grpcio<2.0dev,>=1.33.2 in c:\\users\\33659\\appdata\\roaming\\mamba\\envs\\spaceflights310\\lib\\site-packages (from google-api-core[grpc]<3.0.0dev,>=2.11.1->google-cloud-bigquery<4.0.0dev,>=3.4.2->pandas-gbq>=0.12.0->kedro-datasets[pandas]) (1.68.0)\n",
      "Requirement already satisfied: grpcio-status<2.0.dev0,>=1.33.2 in c:\\users\\33659\\appdata\\roaming\\mamba\\envs\\spaceflights310\\lib\\site-packages (from google-api-core[grpc]<3.0.0dev,>=2.11.1->google-cloud-bigquery<4.0.0dev,>=3.4.2->pandas-gbq>=0.12.0->kedro-datasets[pandas]) (1.68.0)\n",
      "Requirement already satisfied: google-crc32c<2.0dev,>=1.0 in c:\\users\\33659\\appdata\\roaming\\mamba\\envs\\spaceflights310\\lib\\site-packages (from google-resumable-media<3.0dev,>=2.0.0->google-cloud-bigquery<4.0.0dev,>=3.4.2->pandas-gbq>=0.12.0->kedro-datasets[pandas]) (1.6.0)\n",
      "Requirement already satisfied: pyasn1<0.7.0,>=0.4.6 in c:\\users\\33659\\appdata\\roaming\\mamba\\envs\\spaceflights310\\lib\\site-packages (from pyasn1-modules>=0.2.1->google-auth>=2.13.0->pandas-gbq>=0.12.0->kedro-datasets[pandas]) (0.6.1)\n",
      "Requirement already satisfied: six>=1.5 in c:\\users\\33659\\appdata\\roaming\\mamba\\envs\\spaceflights310\\lib\\site-packages (from python-dateutil<3.0dev,>=2.7.3->google-cloud-bigquery<4.0.0dev,>=3.4.2->pandas-gbq>=0.12.0->kedro-datasets[pandas]) (1.16.0)\n",
      "Requirement already satisfied: oauthlib>=3.0.0 in c:\\users\\33659\\appdata\\roaming\\mamba\\envs\\spaceflights310\\lib\\site-packages (from requests-oauthlib>=0.7.0->google-auth-oauthlib>=0.7.0->pandas-gbq>=0.12.0->kedro-datasets[pandas]) (3.2.2)\n",
      "Note: you may need to restart the kernel to use updated packages.\n",
      "Requirement already satisfied: kedro[all] in c:\\users\\33659\\appdata\\roaming\\mamba\\envs\\spaceflights310\\lib\\site-packages (0.19.9)\n",
      "Requirement already satisfied: attrs>=21.3 in c:\\users\\33659\\appdata\\roaming\\mamba\\envs\\spaceflights310\\lib\\site-packages (from kedro[all]) (24.2.0)\n",
      "Requirement already satisfied: build>=0.7.0 in c:\\users\\33659\\appdata\\roaming\\mamba\\envs\\spaceflights310\\lib\\site-packages (from kedro[all]) (1.2.2.post1)\n",
      "Requirement already satisfied: cachetools>=4.1 in c:\\users\\33659\\appdata\\roaming\\mamba\\envs\\spaceflights310\\lib\\site-packages (from kedro[all]) (5.5.0)\n",
      "Requirement already satisfied: click>=4.0 in c:\\users\\33659\\appdata\\roaming\\mamba\\envs\\spaceflights310\\lib\\site-packages (from kedro[all]) (8.1.7)\n",
      "Requirement already satisfied: cookiecutter<3.0,>=2.1.1 in c:\\users\\33659\\appdata\\roaming\\mamba\\envs\\spaceflights310\\lib\\site-packages (from kedro[all]) (2.6.0)\n",
      "Requirement already satisfied: dynaconf<4.0,>=3.1.2 in c:\\users\\33659\\appdata\\roaming\\mamba\\envs\\spaceflights310\\lib\\site-packages (from kedro[all]) (3.2.6)\n",
      "Requirement already satisfied: fsspec>=2021.4 in c:\\users\\33659\\appdata\\roaming\\mamba\\envs\\spaceflights310\\lib\\site-packages (from kedro[all]) (2024.10.0)\n",
      "Requirement already satisfied: gitpython>=3.0 in c:\\users\\33659\\appdata\\roaming\\mamba\\envs\\spaceflights310\\lib\\site-packages (from kedro[all]) (3.0.6)\n",
      "Requirement already satisfied: importlib-metadata<9.0,>=3.6 in c:\\users\\33659\\appdata\\roaming\\mamba\\envs\\spaceflights310\\lib\\site-packages (from kedro[all]) (8.5.0)\n",
      "Requirement already satisfied: importlib-resources<7.0,>=1.3 in c:\\users\\33659\\appdata\\roaming\\mamba\\envs\\spaceflights310\\lib\\site-packages (from kedro[all]) (6.4.5)\n",
      "Requirement already satisfied: kedro-telemetry>=0.5.0 in c:\\users\\33659\\appdata\\roaming\\mamba\\envs\\spaceflights310\\lib\\site-packages (from kedro[all]) (0.6.1)\n",
      "Requirement already satisfied: more-itertools>=8.14.0 in c:\\users\\33659\\appdata\\roaming\\mamba\\envs\\spaceflights310\\lib\\site-packages (from kedro[all]) (10.5.0)\n",
      "Requirement already satisfied: omegaconf>=2.1.1 in c:\\users\\33659\\appdata\\roaming\\mamba\\envs\\spaceflights310\\lib\\site-packages (from kedro[all]) (2.3.0)\n",
      "Requirement already satisfied: parse>=1.19.0 in c:\\users\\33659\\appdata\\roaming\\mamba\\envs\\spaceflights310\\lib\\site-packages (from kedro[all]) (1.20.2)\n",
      "Requirement already satisfied: pluggy>=1.0 in c:\\users\\33659\\appdata\\roaming\\mamba\\envs\\spaceflights310\\lib\\site-packages (from kedro[all]) (1.5.0)\n",
      "Requirement already satisfied: pre-commit-hooks in c:\\users\\33659\\appdata\\roaming\\mamba\\envs\\spaceflights310\\lib\\site-packages (from kedro[all]) (5.0.0)\n",
      "Requirement already satisfied: PyYAML<7.0,>=4.2 in c:\\users\\33659\\appdata\\roaming\\mamba\\envs\\spaceflights310\\lib\\site-packages (from kedro[all]) (6.0.2)\n",
      "Requirement already satisfied: rich<14.0,>=12.0 in c:\\users\\33659\\appdata\\roaming\\mamba\\envs\\spaceflights310\\lib\\site-packages (from kedro[all]) (13.9.4)\n",
      "Requirement already satisfied: rope<2.0,>=0.21 in c:\\users\\33659\\appdata\\roaming\\mamba\\envs\\spaceflights310\\lib\\site-packages (from kedro[all]) (1.13.0)\n",
      "Requirement already satisfied: toml>=0.10.0 in c:\\users\\33659\\appdata\\roaming\\mamba\\envs\\spaceflights310\\lib\\site-packages (from kedro[all]) (0.10.2)\n",
      "Requirement already satisfied: typing-extensions>=4.0 in c:\\users\\33659\\appdata\\roaming\\mamba\\envs\\spaceflights310\\lib\\site-packages (from kedro[all]) (4.12.2)\n",
      "Requirement already satisfied: packaging>=19.1 in c:\\users\\33659\\appdata\\roaming\\mamba\\envs\\spaceflights310\\lib\\site-packages (from build>=0.7.0->kedro[all]) (24.2)\n",
      "Requirement already satisfied: pyproject_hooks in c:\\users\\33659\\appdata\\roaming\\mamba\\envs\\spaceflights310\\lib\\site-packages (from build>=0.7.0->kedro[all]) (1.2.0)\n",
      "Requirement already satisfied: colorama in c:\\users\\33659\\appdata\\roaming\\mamba\\envs\\spaceflights310\\lib\\site-packages (from build>=0.7.0->kedro[all]) (0.4.6)\n",
      "Requirement already satisfied: tomli>=1.1.0 in c:\\users\\33659\\appdata\\roaming\\mamba\\envs\\spaceflights310\\lib\\site-packages (from build>=0.7.0->kedro[all]) (2.1.0)\n",
      "Requirement already satisfied: binaryornot>=0.4.4 in c:\\users\\33659\\appdata\\roaming\\mamba\\envs\\spaceflights310\\lib\\site-packages (from cookiecutter<3.0,>=2.1.1->kedro[all]) (0.4.4)\n",
      "Requirement already satisfied: Jinja2<4.0.0,>=2.7 in c:\\users\\33659\\appdata\\roaming\\mamba\\envs\\spaceflights310\\lib\\site-packages (from cookiecutter<3.0,>=2.1.1->kedro[all]) (3.1.4)\n",
      "Requirement already satisfied: python-slugify>=4.0.0 in c:\\users\\33659\\appdata\\roaming\\mamba\\envs\\spaceflights310\\lib\\site-packages (from cookiecutter<3.0,>=2.1.1->kedro[all]) (8.0.4)\n",
      "Requirement already satisfied: requests>=2.23.0 in c:\\users\\33659\\appdata\\roaming\\mamba\\envs\\spaceflights310\\lib\\site-packages (from cookiecutter<3.0,>=2.1.1->kedro[all]) (2.32.3)\n",
      "Requirement already satisfied: arrow in c:\\users\\33659\\appdata\\roaming\\mamba\\envs\\spaceflights310\\lib\\site-packages (from cookiecutter<3.0,>=2.1.1->kedro[all]) (1.3.0)\n",
      "Requirement already satisfied: gitdb2>=2.0.0 in c:\\users\\33659\\appdata\\roaming\\mamba\\envs\\spaceflights310\\lib\\site-packages (from gitpython>=3.0->kedro[all]) (4.0.2)\n",
      "Requirement already satisfied: zipp>=3.20 in c:\\users\\33659\\appdata\\roaming\\mamba\\envs\\spaceflights310\\lib\\site-packages (from importlib-metadata<9.0,>=3.6->kedro[all]) (3.21.0)\n",
      "Requirement already satisfied: appdirs>=1.4.4 in c:\\users\\33659\\appdata\\roaming\\mamba\\envs\\spaceflights310\\lib\\site-packages (from kedro-telemetry>=0.5.0->kedro[all]) (1.4.4)\n",
      "Requirement already satisfied: antlr4-python3-runtime==4.9.* in c:\\users\\33659\\appdata\\roaming\\mamba\\envs\\spaceflights310\\lib\\site-packages (from omegaconf>=2.1.1->kedro[all]) (4.9.3)\n",
      "Requirement already satisfied: markdown-it-py>=2.2.0 in c:\\users\\33659\\appdata\\roaming\\mamba\\envs\\spaceflights310\\lib\\site-packages (from rich<14.0,>=12.0->kedro[all]) (3.0.0)\n",
      "Requirement already satisfied: pygments<3.0.0,>=2.13.0 in c:\\users\\33659\\appdata\\roaming\\mamba\\envs\\spaceflights310\\lib\\site-packages (from rich<14.0,>=12.0->kedro[all]) (2.18.0)\n",
      "Requirement already satisfied: pytoolconfig>=1.2.2 in c:\\users\\33659\\appdata\\roaming\\mamba\\envs\\spaceflights310\\lib\\site-packages (from pytoolconfig[global]>=1.2.2->rope<2.0,>=0.21->kedro[all]) (1.3.1)\n",
      "Requirement already satisfied: ipylab>=1.0.0 in c:\\users\\33659\\appdata\\roaming\\mamba\\envs\\spaceflights310\\lib\\site-packages (from kedro[all]) (1.0.0)\n",
      "Requirement already satisfied: notebook>=7.0.0 in c:\\users\\33659\\appdata\\roaming\\mamba\\envs\\spaceflights310\\lib\\site-packages (from kedro[all]) (7.2.2)\n",
      "Requirement already satisfied: behave==1.2.6 in c:\\users\\33659\\appdata\\roaming\\mamba\\envs\\spaceflights310\\lib\\site-packages (from kedro[all]) (1.2.6)\n",
      "Requirement already satisfied: coverage[toml] in c:\\users\\33659\\appdata\\roaming\\mamba\\envs\\spaceflights310\\lib\\site-packages (from kedro[all]) (7.6.8)\n",
      "Requirement already satisfied: import-linter==2.0 in c:\\users\\33659\\appdata\\roaming\\mamba\\envs\\spaceflights310\\lib\\site-packages (from kedro[all]) (2.0)\n",
      "Requirement already satisfied: ipython~=8.10 in c:\\users\\33659\\appdata\\roaming\\mamba\\envs\\spaceflights310\\lib\\site-packages (from kedro[all]) (8.29.0)\n",
      "Requirement already satisfied: jupyterlab-server>=2.11.1 in c:\\users\\33659\\appdata\\roaming\\mamba\\envs\\spaceflights310\\lib\\site-packages (from kedro[all]) (2.27.3)\n",
      "Requirement already satisfied: jupyterlab<5,>=3 in c:\\users\\33659\\appdata\\roaming\\mamba\\envs\\spaceflights310\\lib\\site-packages (from kedro[all]) (4.2.6)\n",
      "Requirement already satisfied: jupyter~=1.0 in c:\\users\\33659\\appdata\\roaming\\mamba\\envs\\spaceflights310\\lib\\site-packages (from kedro[all]) (1.1.1)\n",
      "Requirement already satisfied: kedro-datasets in c:\\users\\33659\\appdata\\roaming\\mamba\\envs\\spaceflights310\\lib\\site-packages (from kedro[all]) (5.1.0)\n",
      "Requirement already satisfied: mypy~=1.0 in c:\\users\\33659\\appdata\\roaming\\mamba\\envs\\spaceflights310\\lib\\site-packages (from kedro[all]) (1.13.0)\n",
      "Requirement already satisfied: pandas~=2.0 in c:\\users\\33659\\appdata\\roaming\\mamba\\envs\\spaceflights310\\lib\\site-packages (from kedro[all]) (2.2.3)\n",
      "Requirement already satisfied: pre-commit<5.0,>=2.9.2 in c:\\users\\33659\\appdata\\roaming\\mamba\\envs\\spaceflights310\\lib\\site-packages (from kedro[all]) (4.0.1)\n",
      "Requirement already satisfied: pytest-cov~=3.0 in c:\\users\\33659\\appdata\\roaming\\mamba\\envs\\spaceflights310\\lib\\site-packages (from kedro[all]) (3.0.0)\n",
      "Requirement already satisfied: pytest-mock<4.0,>=1.7.1 in c:\\users\\33659\\appdata\\roaming\\mamba\\envs\\spaceflights310\\lib\\site-packages (from kedro[all]) (3.14.0)\n",
      "Requirement already satisfied: pytest-xdist~=2.2.1 in c:\\users\\33659\\appdata\\roaming\\mamba\\envs\\spaceflights310\\lib\\site-packages (from pytest-xdist[psutil]~=2.2.1; extra == \"test\"->kedro[all]) (2.2.1)\n",
      "Requirement already satisfied: pytest<9.0,>=7.2 in c:\\users\\33659\\appdata\\roaming\\mamba\\envs\\spaceflights310\\lib\\site-packages (from kedro[all]) (8.3.3)\n",
      "Requirement already satisfied: s3fs<2025.1,>=2021.4 in c:\\users\\33659\\appdata\\roaming\\mamba\\envs\\spaceflights310\\lib\\site-packages (from kedro[all]) (2024.10.0)\n",
      "Requirement already satisfied: requests-mock in c:\\users\\33659\\appdata\\roaming\\mamba\\envs\\spaceflights310\\lib\\site-packages (from kedro[all]) (1.12.1)\n",
      "Requirement already satisfied: trufflehog~=2.1 in c:\\users\\33659\\appdata\\roaming\\mamba\\envs\\spaceflights310\\lib\\site-packages (from kedro[all]) (2.2.1)\n",
      "Requirement already satisfied: pandas-stubs in c:\\users\\33659\\appdata\\roaming\\mamba\\envs\\spaceflights310\\lib\\site-packages (from kedro[all]) (2.2.3.241009)\n",
      "Requirement already satisfied: types-PyYAML in c:\\users\\33659\\appdata\\roaming\\mamba\\envs\\spaceflights310\\lib\\site-packages (from kedro[all]) (6.0.12.20240917)\n",
      "Requirement already satisfied: types-cachetools in c:\\users\\33659\\appdata\\roaming\\mamba\\envs\\spaceflights310\\lib\\site-packages (from kedro[all]) (5.5.0.20240820)\n",
      "Requirement already satisfied: types-requests in c:\\users\\33659\\appdata\\roaming\\mamba\\envs\\spaceflights310\\lib\\site-packages (from kedro[all]) (2.32.0.20241016)\n",
      "Requirement already satisfied: types-toml in c:\\users\\33659\\appdata\\roaming\\mamba\\envs\\spaceflights310\\lib\\site-packages (from kedro[all]) (0.10.8.20240310)\n",
      "Requirement already satisfied: ipykernel<7.0,>=5.3 in c:\\users\\33659\\appdata\\roaming\\mamba\\envs\\spaceflights310\\lib\\site-packages (from kedro[all]) (6.29.5)\n",
      "Requirement already satisfied: kedro-sphinx-theme==2024.10.2 in c:\\users\\33659\\appdata\\roaming\\mamba\\envs\\spaceflights310\\lib\\site-packages (from kedro[all]) (2024.10.2)\n",
      "Requirement already satisfied: sphinx-notfound-page!=1.0.3 in c:\\users\\33659\\appdata\\roaming\\mamba\\envs\\spaceflights310\\lib\\site-packages (from kedro[all]) (1.0.4)\n",
      "Requirement already satisfied: parse-type>=0.4.2 in c:\\users\\33659\\appdata\\roaming\\mamba\\envs\\spaceflights310\\lib\\site-packages (from behave==1.2.6->kedro[all]) (0.6.4)\n",
      "Requirement already satisfied: six>=1.11 in c:\\users\\33659\\appdata\\roaming\\mamba\\envs\\spaceflights310\\lib\\site-packages (from behave==1.2.6->kedro[all]) (1.16.0)\n",
      "Requirement already satisfied: grimp>=3.2 in c:\\users\\33659\\appdata\\roaming\\mamba\\envs\\spaceflights310\\lib\\site-packages (from import-linter==2.0->kedro[all]) (3.5)\n",
      "Requirement already satisfied: docutils<0.21 in c:\\users\\33659\\appdata\\roaming\\mamba\\envs\\spaceflights310\\lib\\site-packages (from kedro-sphinx-theme==2024.10.2->kedro[all]) (0.20.1)\n",
      "Requirement already satisfied: sphinx<7.3,>=5.3 in c:\\users\\33659\\appdata\\roaming\\mamba\\envs\\spaceflights310\\lib\\site-packages (from kedro-sphinx-theme==2024.10.2->kedro[all]) (7.2.6)\n",
      "Requirement already satisfied: sphinx_rtd_theme==2.0.0 in c:\\users\\33659\\appdata\\roaming\\mamba\\envs\\spaceflights310\\lib\\site-packages (from kedro-sphinx-theme==2024.10.2->kedro[all]) (2.0.0)\n",
      "Requirement already satisfied: sphinx-autodoc-typehints==1.20.2 in c:\\users\\33659\\appdata\\roaming\\mamba\\envs\\spaceflights310\\lib\\site-packages (from kedro-sphinx-theme==2024.10.2->kedro[all]) (1.20.2)\n",
      "Requirement already satisfied: sphinx_copybutton==0.5.2 in c:\\users\\33659\\appdata\\roaming\\mamba\\envs\\spaceflights310\\lib\\site-packages (from kedro-sphinx-theme==2024.10.2->kedro[all]) (0.5.2)\n",
      "Requirement already satisfied: myst-parser<2.1,>=1.0 in c:\\users\\33659\\appdata\\roaming\\mamba\\envs\\spaceflights310\\lib\\site-packages (from kedro-sphinx-theme==2024.10.2->kedro[all]) (2.0.0)\n",
      "Requirement already satisfied: sphinx-last-updated-by-git in c:\\users\\33659\\appdata\\roaming\\mamba\\envs\\spaceflights310\\lib\\site-packages (from kedro-sphinx-theme==2024.10.2->kedro[all]) (0.3.8)\n",
      "Requirement already satisfied: sphinx-favicon in c:\\users\\33659\\appdata\\roaming\\mamba\\envs\\spaceflights310\\lib\\site-packages (from kedro-sphinx-theme==2024.10.2->kedro[all]) (1.0.1)\n",
      "Requirement already satisfied: sphinxcontrib-youtube in c:\\users\\33659\\appdata\\roaming\\mamba\\envs\\spaceflights310\\lib\\site-packages (from kedro-sphinx-theme==2024.10.2->kedro[all]) (1.4.1)\n",
      "Requirement already satisfied: sphinxcontrib-jquery<5,>=4 in c:\\users\\33659\\appdata\\roaming\\mamba\\envs\\spaceflights310\\lib\\site-packages (from sphinx_rtd_theme==2.0.0->kedro-sphinx-theme==2024.10.2->kedro[all]) (4.1)\n",
      "Requirement already satisfied: ruamel.yaml>=0.15 in c:\\users\\33659\\appdata\\roaming\\mamba\\envs\\spaceflights310\\lib\\site-packages (from pre-commit-hooks->kedro[all]) (0.18.6)\n",
      "Requirement already satisfied: chardet>=3.0.2 in c:\\users\\33659\\appdata\\roaming\\mamba\\envs\\spaceflights310\\lib\\site-packages (from binaryornot>=0.4.4->cookiecutter<3.0,>=2.1.1->kedro[all]) (5.2.0)\n",
      "Requirement already satisfied: gitdb>=4.0.1 in c:\\users\\33659\\appdata\\roaming\\mamba\\envs\\spaceflights310\\lib\\site-packages (from gitdb2>=2.0.0->gitpython>=3.0->kedro[all]) (4.0.11)\n",
      "Requirement already satisfied: comm>=0.1.1 in c:\\users\\33659\\appdata\\roaming\\mamba\\envs\\spaceflights310\\lib\\site-packages (from ipykernel<7.0,>=5.3->kedro[all]) (0.2.2)\n",
      "Requirement already satisfied: debugpy>=1.6.5 in c:\\users\\33659\\appdata\\roaming\\mamba\\envs\\spaceflights310\\lib\\site-packages (from ipykernel<7.0,>=5.3->kedro[all]) (1.8.9)\n",
      "Requirement already satisfied: jupyter-client>=6.1.12 in c:\\users\\33659\\appdata\\roaming\\mamba\\envs\\spaceflights310\\lib\\site-packages (from ipykernel<7.0,>=5.3->kedro[all]) (8.6.3)\n",
      "Requirement already satisfied: jupyter-core!=5.0.*,>=4.12 in c:\\users\\33659\\appdata\\roaming\\mamba\\envs\\spaceflights310\\lib\\site-packages (from ipykernel<7.0,>=5.3->kedro[all]) (5.7.2)\n",
      "Requirement already satisfied: matplotlib-inline>=0.1 in c:\\users\\33659\\appdata\\roaming\\mamba\\envs\\spaceflights310\\lib\\site-packages (from ipykernel<7.0,>=5.3->kedro[all]) (0.1.7)\n",
      "Requirement already satisfied: nest-asyncio in c:\\users\\33659\\appdata\\roaming\\mamba\\envs\\spaceflights310\\lib\\site-packages (from ipykernel<7.0,>=5.3->kedro[all]) (1.6.0)\n",
      "Requirement already satisfied: psutil in c:\\users\\33659\\appdata\\roaming\\mamba\\envs\\spaceflights310\\lib\\site-packages (from ipykernel<7.0,>=5.3->kedro[all]) (6.1.0)\n",
      "Requirement already satisfied: pyzmq>=24 in c:\\users\\33659\\appdata\\roaming\\mamba\\envs\\spaceflights310\\lib\\site-packages (from ipykernel<7.0,>=5.3->kedro[all]) (26.2.0)\n",
      "Requirement already satisfied: tornado>=6.1 in c:\\users\\33659\\appdata\\roaming\\mamba\\envs\\spaceflights310\\lib\\site-packages (from ipykernel<7.0,>=5.3->kedro[all]) (6.4.2)\n",
      "Requirement already satisfied: traitlets>=5.4.0 in c:\\users\\33659\\appdata\\roaming\\mamba\\envs\\spaceflights310\\lib\\site-packages (from ipykernel<7.0,>=5.3->kedro[all]) (5.14.3)\n",
      "Requirement already satisfied: ipywidgets<9,>=7.6.0 in c:\\users\\33659\\appdata\\roaming\\mamba\\envs\\spaceflights310\\lib\\site-packages (from ipylab>=1.0.0->kedro[all]) (8.1.5)\n",
      "Requirement already satisfied: decorator in c:\\users\\33659\\appdata\\roaming\\mamba\\envs\\spaceflights310\\lib\\site-packages (from ipython~=8.10->kedro[all]) (5.1.1)\n",
      "Requirement already satisfied: jedi>=0.16 in c:\\users\\33659\\appdata\\roaming\\mamba\\envs\\spaceflights310\\lib\\site-packages (from ipython~=8.10->kedro[all]) (0.19.2)\n",
      "Requirement already satisfied: prompt-toolkit<3.1.0,>=3.0.41 in c:\\users\\33659\\appdata\\roaming\\mamba\\envs\\spaceflights310\\lib\\site-packages (from ipython~=8.10->kedro[all]) (3.0.48)\n",
      "Requirement already satisfied: stack-data in c:\\users\\33659\\appdata\\roaming\\mamba\\envs\\spaceflights310\\lib\\site-packages (from ipython~=8.10->kedro[all]) (0.6.3)\n",
      "Requirement already satisfied: exceptiongroup in c:\\users\\33659\\appdata\\roaming\\mamba\\envs\\spaceflights310\\lib\\site-packages (from ipython~=8.10->kedro[all]) (1.2.2)\n",
      "Requirement already satisfied: MarkupSafe>=2.0 in c:\\users\\33659\\appdata\\roaming\\mamba\\envs\\spaceflights310\\lib\\site-packages (from Jinja2<4.0.0,>=2.7->cookiecutter<3.0,>=2.1.1->kedro[all]) (3.0.2)\n",
      "Requirement already satisfied: jupyter-console in c:\\users\\33659\\appdata\\roaming\\mamba\\envs\\spaceflights310\\lib\\site-packages (from jupyter~=1.0->kedro[all]) (6.6.3)\n",
      "Requirement already satisfied: nbconvert in c:\\users\\33659\\appdata\\roaming\\mamba\\envs\\spaceflights310\\lib\\site-packages (from jupyter~=1.0->kedro[all]) (7.16.4)\n",
      "Requirement already satisfied: async-lru>=1.0.0 in c:\\users\\33659\\appdata\\roaming\\mamba\\envs\\spaceflights310\\lib\\site-packages (from jupyterlab<5,>=3->kedro[all]) (2.0.4)\n",
      "Requirement already satisfied: httpx>=0.25.0 in c:\\users\\33659\\appdata\\roaming\\mamba\\envs\\spaceflights310\\lib\\site-packages (from jupyterlab<5,>=3->kedro[all]) (0.27.2)\n",
      "Requirement already satisfied: jupyter-lsp>=2.0.0 in c:\\users\\33659\\appdata\\roaming\\mamba\\envs\\spaceflights310\\lib\\site-packages (from jupyterlab<5,>=3->kedro[all]) (2.2.5)\n",
      "Requirement already satisfied: jupyter-server<3,>=2.4.0 in c:\\users\\33659\\appdata\\roaming\\mamba\\envs\\spaceflights310\\lib\\site-packages (from jupyterlab<5,>=3->kedro[all]) (2.14.2)\n",
      "Requirement already satisfied: notebook-shim>=0.2 in c:\\users\\33659\\appdata\\roaming\\mamba\\envs\\spaceflights310\\lib\\site-packages (from jupyterlab<5,>=3->kedro[all]) (0.2.4)\n",
      "Requirement already satisfied: setuptools>=40.1.0 in c:\\users\\33659\\appdata\\roaming\\mamba\\envs\\spaceflights310\\lib\\site-packages (from jupyterlab<5,>=3->kedro[all]) (75.6.0)\n",
      "Requirement already satisfied: babel>=2.10 in c:\\users\\33659\\appdata\\roaming\\mamba\\envs\\spaceflights310\\lib\\site-packages (from jupyterlab-server>=2.11.1->kedro[all]) (2.16.0)\n",
      "Requirement already satisfied: json5>=0.9.0 in c:\\users\\33659\\appdata\\roaming\\mamba\\envs\\spaceflights310\\lib\\site-packages (from jupyterlab-server>=2.11.1->kedro[all]) (0.9.28)\n",
      "Requirement already satisfied: jsonschema>=4.18.0 in c:\\users\\33659\\appdata\\roaming\\mamba\\envs\\spaceflights310\\lib\\site-packages (from jupyterlab-server>=2.11.1->kedro[all]) (4.23.0)\n",
      "Requirement already satisfied: mdurl~=0.1 in c:\\users\\33659\\appdata\\roaming\\mamba\\envs\\spaceflights310\\lib\\site-packages (from markdown-it-py>=2.2.0->rich<14.0,>=12.0->kedro[all]) (0.1.2)\n",
      "Requirement already satisfied: mypy-extensions>=1.0.0 in c:\\users\\33659\\appdata\\roaming\\mamba\\envs\\spaceflights310\\lib\\site-packages (from mypy~=1.0->kedro[all]) (1.0.0)\n",
      "Requirement already satisfied: numpy>=1.22.4 in c:\\users\\33659\\appdata\\roaming\\mamba\\envs\\spaceflights310\\lib\\site-packages (from pandas~=2.0->kedro[all]) (2.1.3)\n",
      "Requirement already satisfied: python-dateutil>=2.8.2 in c:\\users\\33659\\appdata\\roaming\\mamba\\envs\\spaceflights310\\lib\\site-packages (from pandas~=2.0->kedro[all]) (2.9.0.post0)\n",
      "Requirement already satisfied: pytz>=2020.1 in c:\\users\\33659\\appdata\\roaming\\mamba\\envs\\spaceflights310\\lib\\site-packages (from pandas~=2.0->kedro[all]) (2024.2)\n",
      "Requirement already satisfied: tzdata>=2022.7 in c:\\users\\33659\\appdata\\roaming\\mamba\\envs\\spaceflights310\\lib\\site-packages (from pandas~=2.0->kedro[all]) (2024.2)\n",
      "Requirement already satisfied: cfgv>=2.0.0 in c:\\users\\33659\\appdata\\roaming\\mamba\\envs\\spaceflights310\\lib\\site-packages (from pre-commit<5.0,>=2.9.2->kedro[all]) (3.4.0)\n",
      "Requirement already satisfied: identify>=1.0.0 in c:\\users\\33659\\appdata\\roaming\\mamba\\envs\\spaceflights310\\lib\\site-packages (from pre-commit<5.0,>=2.9.2->kedro[all]) (2.6.2)\n",
      "Requirement already satisfied: nodeenv>=0.11.1 in c:\\users\\33659\\appdata\\roaming\\mamba\\envs\\spaceflights310\\lib\\site-packages (from pre-commit<5.0,>=2.9.2->kedro[all]) (1.9.1)\n",
      "Requirement already satisfied: virtualenv>=20.10.0 in c:\\users\\33659\\appdata\\roaming\\mamba\\envs\\spaceflights310\\lib\\site-packages (from pre-commit<5.0,>=2.9.2->kedro[all]) (20.27.1)\n",
      "Requirement already satisfied: iniconfig in c:\\users\\33659\\appdata\\roaming\\mamba\\envs\\spaceflights310\\lib\\site-packages (from pytest<9.0,>=7.2->kedro[all]) (2.0.0)\n",
      "Requirement already satisfied: execnet>=1.1 in c:\\users\\33659\\appdata\\roaming\\mamba\\envs\\spaceflights310\\lib\\site-packages (from pytest-xdist~=2.2.1->pytest-xdist[psutil]~=2.2.1; extra == \"test\"->kedro[all]) (2.1.1)\n",
      "Requirement already satisfied: pytest-forked in c:\\users\\33659\\appdata\\roaming\\mamba\\envs\\spaceflights310\\lib\\site-packages (from pytest-xdist~=2.2.1->pytest-xdist[psutil]~=2.2.1; extra == \"test\"->kedro[all]) (1.6.0)\n",
      "Requirement already satisfied: text-unidecode>=1.3 in c:\\users\\33659\\appdata\\roaming\\mamba\\envs\\spaceflights310\\lib\\site-packages (from python-slugify>=4.0.0->cookiecutter<3.0,>=2.1.1->kedro[all]) (1.3)\n",
      "Requirement already satisfied: platformdirs>=3.11.0 in c:\\users\\33659\\appdata\\roaming\\mamba\\envs\\spaceflights310\\lib\\site-packages (from pytoolconfig[global]>=1.2.2->rope<2.0,>=0.21->kedro[all]) (4.3.6)\n",
      "Requirement already satisfied: charset-normalizer<4,>=2 in c:\\users\\33659\\appdata\\roaming\\mamba\\envs\\spaceflights310\\lib\\site-packages (from requests>=2.23.0->cookiecutter<3.0,>=2.1.1->kedro[all]) (3.4.0)\n",
      "Requirement already satisfied: idna<4,>=2.5 in c:\\users\\33659\\appdata\\roaming\\mamba\\envs\\spaceflights310\\lib\\site-packages (from requests>=2.23.0->cookiecutter<3.0,>=2.1.1->kedro[all]) (3.10)\n",
      "Requirement already satisfied: urllib3<3,>=1.21.1 in c:\\users\\33659\\appdata\\roaming\\mamba\\envs\\spaceflights310\\lib\\site-packages (from requests>=2.23.0->cookiecutter<3.0,>=2.1.1->kedro[all]) (2.2.3)\n",
      "Requirement already satisfied: certifi>=2017.4.17 in c:\\users\\33659\\appdata\\roaming\\mamba\\envs\\spaceflights310\\lib\\site-packages (from requests>=2.23.0->cookiecutter<3.0,>=2.1.1->kedro[all]) (2024.8.30)\n",
      "Requirement already satisfied: ruamel.yaml.clib>=0.2.7 in c:\\users\\33659\\appdata\\roaming\\mamba\\envs\\spaceflights310\\lib\\site-packages (from ruamel.yaml>=0.15->pre-commit-hooks->kedro[all]) (0.2.12)\n",
      "Requirement already satisfied: aiobotocore<3.0.0,>=2.5.4 in c:\\users\\33659\\appdata\\roaming\\mamba\\envs\\spaceflights310\\lib\\site-packages (from s3fs<2025.1,>=2021.4->kedro[all]) (2.15.2)\n",
      "Requirement already satisfied: aiohttp!=4.0.0a0,!=4.0.0a1 in c:\\users\\33659\\appdata\\roaming\\mamba\\envs\\spaceflights310\\lib\\site-packages (from s3fs<2025.1,>=2021.4->kedro[all]) (3.11.7)\n",
      "Requirement already satisfied: truffleHogRegexes==0.0.7 in c:\\users\\33659\\appdata\\roaming\\mamba\\envs\\spaceflights310\\lib\\site-packages (from trufflehog~=2.1->kedro[all]) (0.0.7)\n",
      "Requirement already satisfied: types-python-dateutil>=2.8.10 in c:\\users\\33659\\appdata\\roaming\\mamba\\envs\\spaceflights310\\lib\\site-packages (from arrow->cookiecutter<3.0,>=2.1.1->kedro[all]) (2.9.0.20241003)\n",
      "Requirement already satisfied: lazy-loader in c:\\users\\33659\\appdata\\roaming\\mamba\\envs\\spaceflights310\\lib\\site-packages (from kedro-datasets->kedro[all]) (0.4)\n",
      "Requirement already satisfied: types-pytz>=2022.1.1 in c:\\users\\33659\\appdata\\roaming\\mamba\\envs\\spaceflights310\\lib\\site-packages (from pandas-stubs->kedro[all]) (2024.2.0.20241003)\n",
      "Requirement already satisfied: botocore<1.35.37,>=1.35.16 in c:\\users\\33659\\appdata\\roaming\\mamba\\envs\\spaceflights310\\lib\\site-packages (from aiobotocore<3.0.0,>=2.5.4->s3fs<2025.1,>=2021.4->kedro[all]) (1.35.36)\n",
      "Requirement already satisfied: wrapt<2.0.0,>=1.10.10 in c:\\users\\33659\\appdata\\roaming\\mamba\\envs\\spaceflights310\\lib\\site-packages (from aiobotocore<3.0.0,>=2.5.4->s3fs<2025.1,>=2021.4->kedro[all]) (1.17.0)\n",
      "Requirement already satisfied: aioitertools<1.0.0,>=0.5.1 in c:\\users\\33659\\appdata\\roaming\\mamba\\envs\\spaceflights310\\lib\\site-packages (from aiobotocore<3.0.0,>=2.5.4->s3fs<2025.1,>=2021.4->kedro[all]) (0.12.0)\n",
      "Requirement already satisfied: aiohappyeyeballs>=2.3.0 in c:\\users\\33659\\appdata\\roaming\\mamba\\envs\\spaceflights310\\lib\\site-packages (from aiohttp!=4.0.0a0,!=4.0.0a1->s3fs<2025.1,>=2021.4->kedro[all]) (2.4.3)\n",
      "Requirement already satisfied: aiosignal>=1.1.2 in c:\\users\\33659\\appdata\\roaming\\mamba\\envs\\spaceflights310\\lib\\site-packages (from aiohttp!=4.0.0a0,!=4.0.0a1->s3fs<2025.1,>=2021.4->kedro[all]) (1.3.1)\n",
      "Requirement already satisfied: async-timeout<6.0,>=4.0 in c:\\users\\33659\\appdata\\roaming\\mamba\\envs\\spaceflights310\\lib\\site-packages (from aiohttp!=4.0.0a0,!=4.0.0a1->s3fs<2025.1,>=2021.4->kedro[all]) (5.0.1)\n",
      "Requirement already satisfied: frozenlist>=1.1.1 in c:\\users\\33659\\appdata\\roaming\\mamba\\envs\\spaceflights310\\lib\\site-packages (from aiohttp!=4.0.0a0,!=4.0.0a1->s3fs<2025.1,>=2021.4->kedro[all]) (1.5.0)\n",
      "Requirement already satisfied: multidict<7.0,>=4.5 in c:\\users\\33659\\appdata\\roaming\\mamba\\envs\\spaceflights310\\lib\\site-packages (from aiohttp!=4.0.0a0,!=4.0.0a1->s3fs<2025.1,>=2021.4->kedro[all]) (6.1.0)\n",
      "Requirement already satisfied: propcache>=0.2.0 in c:\\users\\33659\\appdata\\roaming\\mamba\\envs\\spaceflights310\\lib\\site-packages (from aiohttp!=4.0.0a0,!=4.0.0a1->s3fs<2025.1,>=2021.4->kedro[all]) (0.2.0)\n",
      "Requirement already satisfied: yarl<2.0,>=1.17.0 in c:\\users\\33659\\appdata\\roaming\\mamba\\envs\\spaceflights310\\lib\\site-packages (from aiohttp!=4.0.0a0,!=4.0.0a1->s3fs<2025.1,>=2021.4->kedro[all]) (1.18.0)\n",
      "Requirement already satisfied: smmap<6,>=3.0.1 in c:\\users\\33659\\appdata\\roaming\\mamba\\envs\\spaceflights310\\lib\\site-packages (from gitdb>=4.0.1->gitdb2>=2.0.0->gitpython>=3.0->kedro[all]) (5.0.1)\n",
      "Requirement already satisfied: anyio in c:\\users\\33659\\appdata\\roaming\\mamba\\envs\\spaceflights310\\lib\\site-packages (from httpx>=0.25.0->jupyterlab<5,>=3->kedro[all]) (4.6.2.post1)\n",
      "Requirement already satisfied: httpcore==1.* in c:\\users\\33659\\appdata\\roaming\\mamba\\envs\\spaceflights310\\lib\\site-packages (from httpx>=0.25.0->jupyterlab<5,>=3->kedro[all]) (1.0.7)\n",
      "Requirement already satisfied: sniffio in c:\\users\\33659\\appdata\\roaming\\mamba\\envs\\spaceflights310\\lib\\site-packages (from httpx>=0.25.0->jupyterlab<5,>=3->kedro[all]) (1.3.1)\n",
      "Requirement already satisfied: h11<0.15,>=0.13 in c:\\users\\33659\\appdata\\roaming\\mamba\\envs\\spaceflights310\\lib\\site-packages (from httpcore==1.*->httpx>=0.25.0->jupyterlab<5,>=3->kedro[all]) (0.14.0)\n",
      "Requirement already satisfied: widgetsnbextension~=4.0.12 in c:\\users\\33659\\appdata\\roaming\\mamba\\envs\\spaceflights310\\lib\\site-packages (from ipywidgets<9,>=7.6.0->ipylab>=1.0.0->kedro[all]) (4.0.13)\n",
      "Requirement already satisfied: jupyterlab-widgets~=3.0.12 in c:\\users\\33659\\appdata\\roaming\\mamba\\envs\\spaceflights310\\lib\\site-packages (from ipywidgets<9,>=7.6.0->ipylab>=1.0.0->kedro[all]) (3.0.13)\n",
      "Requirement already satisfied: parso<0.9.0,>=0.8.4 in c:\\users\\33659\\appdata\\roaming\\mamba\\envs\\spaceflights310\\lib\\site-packages (from jedi>=0.16->ipython~=8.10->kedro[all]) (0.8.4)\n",
      "Requirement already satisfied: jsonschema-specifications>=2023.03.6 in c:\\users\\33659\\appdata\\roaming\\mamba\\envs\\spaceflights310\\lib\\site-packages (from jsonschema>=4.18.0->jupyterlab-server>=2.11.1->kedro[all]) (2024.10.1)\n",
      "Requirement already satisfied: referencing>=0.28.4 in c:\\users\\33659\\appdata\\roaming\\mamba\\envs\\spaceflights310\\lib\\site-packages (from jsonschema>=4.18.0->jupyterlab-server>=2.11.1->kedro[all]) (0.35.1)\n",
      "Requirement already satisfied: rpds-py>=0.7.1 in c:\\users\\33659\\appdata\\roaming\\mamba\\envs\\spaceflights310\\lib\\site-packages (from jsonschema>=4.18.0->jupyterlab-server>=2.11.1->kedro[all]) (0.21.0)\n",
      "Requirement already satisfied: pywin32>=300 in c:\\users\\33659\\appdata\\roaming\\mamba\\envs\\spaceflights310\\lib\\site-packages (from jupyter-core!=5.0.*,>=4.12->ipykernel<7.0,>=5.3->kedro[all]) (308)\n",
      "Requirement already satisfied: argon2-cffi>=21.1 in c:\\users\\33659\\appdata\\roaming\\mamba\\envs\\spaceflights310\\lib\\site-packages (from jupyter-server<3,>=2.4.0->jupyterlab<5,>=3->kedro[all]) (23.1.0)\n",
      "Requirement already satisfied: jupyter-events>=0.9.0 in c:\\users\\33659\\appdata\\roaming\\mamba\\envs\\spaceflights310\\lib\\site-packages (from jupyter-server<3,>=2.4.0->jupyterlab<5,>=3->kedro[all]) (0.10.0)\n",
      "Requirement already satisfied: jupyter-server-terminals>=0.4.4 in c:\\users\\33659\\appdata\\roaming\\mamba\\envs\\spaceflights310\\lib\\site-packages (from jupyter-server<3,>=2.4.0->jupyterlab<5,>=3->kedro[all]) (0.5.3)\n",
      "Requirement already satisfied: nbformat>=5.3.0 in c:\\users\\33659\\appdata\\roaming\\mamba\\envs\\spaceflights310\\lib\\site-packages (from jupyter-server<3,>=2.4.0->jupyterlab<5,>=3->kedro[all]) (5.10.4)\n",
      "Requirement already satisfied: overrides>=5.0 in c:\\users\\33659\\appdata\\roaming\\mamba\\envs\\spaceflights310\\lib\\site-packages (from jupyter-server<3,>=2.4.0->jupyterlab<5,>=3->kedro[all]) (7.7.0)\n",
      "Requirement already satisfied: prometheus-client>=0.9 in c:\\users\\33659\\appdata\\roaming\\mamba\\envs\\spaceflights310\\lib\\site-packages (from jupyter-server<3,>=2.4.0->jupyterlab<5,>=3->kedro[all]) (0.21.0)\n",
      "Requirement already satisfied: pywinpty>=2.0.1 in c:\\users\\33659\\appdata\\roaming\\mamba\\envs\\spaceflights310\\lib\\site-packages (from jupyter-server<3,>=2.4.0->jupyterlab<5,>=3->kedro[all]) (2.0.14)\n",
      "Requirement already satisfied: send2trash>=1.8.2 in c:\\users\\33659\\appdata\\roaming\\mamba\\envs\\spaceflights310\\lib\\site-packages (from jupyter-server<3,>=2.4.0->jupyterlab<5,>=3->kedro[all]) (1.8.3)\n",
      "Requirement already satisfied: terminado>=0.8.3 in c:\\users\\33659\\appdata\\roaming\\mamba\\envs\\spaceflights310\\lib\\site-packages (from jupyter-server<3,>=2.4.0->jupyterlab<5,>=3->kedro[all]) (0.18.1)\n",
      "Requirement already satisfied: websocket-client>=1.7 in c:\\users\\33659\\appdata\\roaming\\mamba\\envs\\spaceflights310\\lib\\site-packages (from jupyter-server<3,>=2.4.0->jupyterlab<5,>=3->kedro[all]) (1.8.0)\n",
      "Requirement already satisfied: mdit-py-plugins~=0.4 in c:\\users\\33659\\appdata\\roaming\\mamba\\envs\\spaceflights310\\lib\\site-packages (from myst-parser<2.1,>=1.0->kedro-sphinx-theme==2024.10.2->kedro[all]) (0.4.2)\n",
      "Requirement already satisfied: beautifulsoup4 in c:\\users\\33659\\appdata\\roaming\\mamba\\envs\\spaceflights310\\lib\\site-packages (from nbconvert->jupyter~=1.0->kedro[all]) (4.12.3)\n",
      "Requirement already satisfied: bleach!=5.0.0 in c:\\users\\33659\\appdata\\roaming\\mamba\\envs\\spaceflights310\\lib\\site-packages (from nbconvert->jupyter~=1.0->kedro[all]) (6.2.0)\n",
      "Requirement already satisfied: defusedxml in c:\\users\\33659\\appdata\\roaming\\mamba\\envs\\spaceflights310\\lib\\site-packages (from nbconvert->jupyter~=1.0->kedro[all]) (0.7.1)\n",
      "Requirement already satisfied: jupyterlab-pygments in c:\\users\\33659\\appdata\\roaming\\mamba\\envs\\spaceflights310\\lib\\site-packages (from nbconvert->jupyter~=1.0->kedro[all]) (0.3.0)\n",
      "Requirement already satisfied: mistune<4,>=2.0.3 in c:\\users\\33659\\appdata\\roaming\\mamba\\envs\\spaceflights310\\lib\\site-packages (from nbconvert->jupyter~=1.0->kedro[all]) (3.0.2)\n",
      "Requirement already satisfied: nbclient>=0.5.0 in c:\\users\\33659\\appdata\\roaming\\mamba\\envs\\spaceflights310\\lib\\site-packages (from nbconvert->jupyter~=1.0->kedro[all]) (0.10.0)\n",
      "Requirement already satisfied: pandocfilters>=1.4.1 in c:\\users\\33659\\appdata\\roaming\\mamba\\envs\\spaceflights310\\lib\\site-packages (from nbconvert->jupyter~=1.0->kedro[all]) (1.5.1)\n",
      "Requirement already satisfied: tinycss2 in c:\\users\\33659\\appdata\\roaming\\mamba\\envs\\spaceflights310\\lib\\site-packages (from nbconvert->jupyter~=1.0->kedro[all]) (1.4.0)\n",
      "Requirement already satisfied: wcwidth in c:\\users\\33659\\appdata\\roaming\\mamba\\envs\\spaceflights310\\lib\\site-packages (from prompt-toolkit<3.1.0,>=3.0.41->ipython~=8.10->kedro[all]) (0.2.13)\n",
      "Requirement already satisfied: sphinxcontrib-applehelp in c:\\users\\33659\\appdata\\roaming\\mamba\\envs\\spaceflights310\\lib\\site-packages (from sphinx<7.3,>=5.3->kedro-sphinx-theme==2024.10.2->kedro[all]) (2.0.0)\n",
      "Requirement already satisfied: sphinxcontrib-devhelp in c:\\users\\33659\\appdata\\roaming\\mamba\\envs\\spaceflights310\\lib\\site-packages (from sphinx<7.3,>=5.3->kedro-sphinx-theme==2024.10.2->kedro[all]) (2.0.0)\n",
      "Requirement already satisfied: sphinxcontrib-jsmath in c:\\users\\33659\\appdata\\roaming\\mamba\\envs\\spaceflights310\\lib\\site-packages (from sphinx<7.3,>=5.3->kedro-sphinx-theme==2024.10.2->kedro[all]) (1.0.1)\n",
      "Requirement already satisfied: sphinxcontrib-htmlhelp>=2.0.0 in c:\\users\\33659\\appdata\\roaming\\mamba\\envs\\spaceflights310\\lib\\site-packages (from sphinx<7.3,>=5.3->kedro-sphinx-theme==2024.10.2->kedro[all]) (2.1.0)\n",
      "Requirement already satisfied: sphinxcontrib-serializinghtml>=1.1.9 in c:\\users\\33659\\appdata\\roaming\\mamba\\envs\\spaceflights310\\lib\\site-packages (from sphinx<7.3,>=5.3->kedro-sphinx-theme==2024.10.2->kedro[all]) (2.0.0)\n",
      "Requirement already satisfied: sphinxcontrib-qthelp in c:\\users\\33659\\appdata\\roaming\\mamba\\envs\\spaceflights310\\lib\\site-packages (from sphinx<7.3,>=5.3->kedro-sphinx-theme==2024.10.2->kedro[all]) (2.0.0)\n",
      "Requirement already satisfied: snowballstemmer>=2.0 in c:\\users\\33659\\appdata\\roaming\\mamba\\envs\\spaceflights310\\lib\\site-packages (from sphinx<7.3,>=5.3->kedro-sphinx-theme==2024.10.2->kedro[all]) (2.2.0)\n",
      "Requirement already satisfied: alabaster<0.8,>=0.7 in c:\\users\\33659\\appdata\\roaming\\mamba\\envs\\spaceflights310\\lib\\site-packages (from sphinx<7.3,>=5.3->kedro-sphinx-theme==2024.10.2->kedro[all]) (0.7.16)\n",
      "Requirement already satisfied: imagesize>=1.3 in c:\\users\\33659\\appdata\\roaming\\mamba\\envs\\spaceflights310\\lib\\site-packages (from sphinx<7.3,>=5.3->kedro-sphinx-theme==2024.10.2->kedro[all]) (1.4.1)\n",
      "Requirement already satisfied: distlib<1,>=0.3.7 in c:\\users\\33659\\appdata\\roaming\\mamba\\envs\\spaceflights310\\lib\\site-packages (from virtualenv>=20.10.0->pre-commit<5.0,>=2.9.2->kedro[all]) (0.3.9)\n",
      "Requirement already satisfied: filelock<4,>=3.12.2 in c:\\users\\33659\\appdata\\roaming\\mamba\\envs\\spaceflights310\\lib\\site-packages (from virtualenv>=20.10.0->pre-commit<5.0,>=2.9.2->kedro[all]) (3.16.1)\n",
      "Requirement already satisfied: py in c:\\users\\33659\\appdata\\roaming\\mamba\\envs\\spaceflights310\\lib\\site-packages (from pytest-forked->pytest-xdist~=2.2.1->pytest-xdist[psutil]~=2.2.1; extra == \"test\"->kedro[all]) (1.11.0)\n",
      "Requirement already satisfied: executing>=1.2.0 in c:\\users\\33659\\appdata\\roaming\\mamba\\envs\\spaceflights310\\lib\\site-packages (from stack-data->ipython~=8.10->kedro[all]) (2.1.0)\n",
      "Requirement already satisfied: asttokens>=2.1.0 in c:\\users\\33659\\appdata\\roaming\\mamba\\envs\\spaceflights310\\lib\\site-packages (from stack-data->ipython~=8.10->kedro[all]) (2.4.1)\n",
      "Requirement already satisfied: pure-eval in c:\\users\\33659\\appdata\\roaming\\mamba\\envs\\spaceflights310\\lib\\site-packages (from stack-data->ipython~=8.10->kedro[all]) (0.2.3)\n",
      "Requirement already satisfied: argon2-cffi-bindings in c:\\users\\33659\\appdata\\roaming\\mamba\\envs\\spaceflights310\\lib\\site-packages (from argon2-cffi>=21.1->jupyter-server<3,>=2.4.0->jupyterlab<5,>=3->kedro[all]) (21.2.0)\n",
      "Requirement already satisfied: webencodings in c:\\users\\33659\\appdata\\roaming\\mamba\\envs\\spaceflights310\\lib\\site-packages (from bleach!=5.0.0->nbconvert->jupyter~=1.0->kedro[all]) (0.5.1)\n",
      "Requirement already satisfied: jmespath<2.0.0,>=0.7.1 in c:\\users\\33659\\appdata\\roaming\\mamba\\envs\\spaceflights310\\lib\\site-packages (from botocore<1.35.37,>=1.35.16->aiobotocore<3.0.0,>=2.5.4->s3fs<2025.1,>=2021.4->kedro[all]) (1.0.1)\n",
      "Requirement already satisfied: python-json-logger>=2.0.4 in c:\\users\\33659\\appdata\\roaming\\mamba\\envs\\spaceflights310\\lib\\site-packages (from jupyter-events>=0.9.0->jupyter-server<3,>=2.4.0->jupyterlab<5,>=3->kedro[all]) (2.0.7)\n",
      "Requirement already satisfied: rfc3339-validator in c:\\users\\33659\\appdata\\roaming\\mamba\\envs\\spaceflights310\\lib\\site-packages (from jupyter-events>=0.9.0->jupyter-server<3,>=2.4.0->jupyterlab<5,>=3->kedro[all]) (0.1.4)\n",
      "Requirement already satisfied: rfc3986-validator>=0.1.1 in c:\\users\\33659\\appdata\\roaming\\mamba\\envs\\spaceflights310\\lib\\site-packages (from jupyter-events>=0.9.0->jupyter-server<3,>=2.4.0->jupyterlab<5,>=3->kedro[all]) (0.1.1)\n",
      "Requirement already satisfied: fastjsonschema>=2.15 in c:\\users\\33659\\appdata\\roaming\\mamba\\envs\\spaceflights310\\lib\\site-packages (from nbformat>=5.3.0->jupyter-server<3,>=2.4.0->jupyterlab<5,>=3->kedro[all]) (2.20.0)\n",
      "Requirement already satisfied: soupsieve>1.2 in c:\\users\\33659\\appdata\\roaming\\mamba\\envs\\spaceflights310\\lib\\site-packages (from beautifulsoup4->nbconvert->jupyter~=1.0->kedro[all]) (2.6)\n",
      "Requirement already satisfied: fqdn in c:\\users\\33659\\appdata\\roaming\\mamba\\envs\\spaceflights310\\lib\\site-packages (from jsonschema[format-nongpl]>=4.18.0->jupyter-events>=0.9.0->jupyter-server<3,>=2.4.0->jupyterlab<5,>=3->kedro[all]) (1.5.1)\n",
      "Requirement already satisfied: isoduration in c:\\users\\33659\\appdata\\roaming\\mamba\\envs\\spaceflights310\\lib\\site-packages (from jsonschema[format-nongpl]>=4.18.0->jupyter-events>=0.9.0->jupyter-server<3,>=2.4.0->jupyterlab<5,>=3->kedro[all]) (20.11.0)\n",
      "Requirement already satisfied: jsonpointer>1.13 in c:\\users\\33659\\appdata\\roaming\\mamba\\envs\\spaceflights310\\lib\\site-packages (from jsonschema[format-nongpl]>=4.18.0->jupyter-events>=0.9.0->jupyter-server<3,>=2.4.0->jupyterlab<5,>=3->kedro[all]) (3.0.0)\n",
      "Requirement already satisfied: uri-template in c:\\users\\33659\\appdata\\roaming\\mamba\\envs\\spaceflights310\\lib\\site-packages (from jsonschema[format-nongpl]>=4.18.0->jupyter-events>=0.9.0->jupyter-server<3,>=2.4.0->jupyterlab<5,>=3->kedro[all]) (1.3.0)\n",
      "Requirement already satisfied: webcolors>=24.6.0 in c:\\users\\33659\\appdata\\roaming\\mamba\\envs\\spaceflights310\\lib\\site-packages (from jsonschema[format-nongpl]>=4.18.0->jupyter-events>=0.9.0->jupyter-server<3,>=2.4.0->jupyterlab<5,>=3->kedro[all]) (24.11.1)\n",
      "Requirement already satisfied: cffi>=1.0.1 in c:\\users\\33659\\appdata\\roaming\\mamba\\envs\\spaceflights310\\lib\\site-packages (from argon2-cffi-bindings->argon2-cffi>=21.1->jupyter-server<3,>=2.4.0->jupyterlab<5,>=3->kedro[all]) (1.17.1)\n",
      "Requirement already satisfied: pycparser in c:\\users\\33659\\appdata\\roaming\\mamba\\envs\\spaceflights310\\lib\\site-packages (from cffi>=1.0.1->argon2-cffi-bindings->argon2-cffi>=21.1->jupyter-server<3,>=2.4.0->jupyterlab<5,>=3->kedro[all]) (2.22)\n",
      "Note: you may need to restart the kernel to use updated packages.\n"
     ]
    }
   ],
   "source": [
    "%pip install kedro-datasets[pandas]\n",
    "%pip install \"kedro[all]\""
   ]
  },
  {
   "cell_type": "code",
   "execution_count": 2,
   "id": "d1dab972-a0fb-45ab-97bc-9917fa7dfd23",
   "metadata": {},
   "outputs": [
    {
     "data": {
      "text/html": [
       "<pre style=\"white-space:pre;overflow-x:auto;line-height:normal;font-family:Menlo,'DejaVu Sans Mono',consolas,'Courier New',monospace\"><span style=\"color: #7fbfbf; text-decoration-color: #7fbfbf\">[11/25/24 08:44:56] </span><span style=\"color: #000080; text-decoration-color: #000080\">INFO    </span> Using                                                                  <a href=\"file://C:\\Users\\33659\\AppData\\Roaming\\mamba\\envs\\spaceflights310\\lib\\site-packages\\kedro\\framework\\project\\__init__.py\" target=\"_blank\"><span style=\"color: #7f7f7f; text-decoration-color: #7f7f7f\">__init__.py</span></a><span style=\"color: #7f7f7f; text-decoration-color: #7f7f7f\">:</span><a href=\"file://C:\\Users\\33659\\AppData\\Roaming\\mamba\\envs\\spaceflights310\\lib\\site-packages\\kedro\\framework\\project\\__init__.py#270\" target=\"_blank\"><span style=\"color: #7f7f7f; text-decoration-color: #7f7f7f\">270</span></a>\n",
       "<span style=\"color: #7fbfbf; text-decoration-color: #7fbfbf\">                    </span>         <span style=\"color: #008000; text-decoration-color: #008000\">'C:\\Users\\33659\\AppData\\Roaming\\mamba\\envs\\spaceflights310\\lib\\site-pa</span> <span style=\"color: #7f7f7f; text-decoration-color: #7f7f7f\">               </span>\n",
       "<span style=\"color: #7fbfbf; text-decoration-color: #7fbfbf\">                    </span>         <span style=\"color: #008000; text-decoration-color: #008000\">ckages\\kedro\\framework\\project\\rich_logging.yml'</span> as logging            <span style=\"color: #7f7f7f; text-decoration-color: #7f7f7f\">               </span>\n",
       "<span style=\"color: #7fbfbf; text-decoration-color: #7fbfbf\">                    </span>         configuration.                                                         <span style=\"color: #7f7f7f; text-decoration-color: #7f7f7f\">               </span>\n",
       "</pre>\n"
      ],
      "text/plain": [
       "\u001b[2;36m[11/25/24 08:44:56]\u001b[0m\u001b[2;36m \u001b[0m\u001b[34mINFO    \u001b[0m Using                                                                  \u001b]8;id=403671;file://C:\\Users\\33659\\AppData\\Roaming\\mamba\\envs\\spaceflights310\\lib\\site-packages\\kedro\\framework\\project\\__init__.py\u001b\\\u001b[2m__init__.py\u001b[0m\u001b]8;;\u001b\\\u001b[2m:\u001b[0m\u001b]8;id=678249;file://C:\\Users\\33659\\AppData\\Roaming\\mamba\\envs\\spaceflights310\\lib\\site-packages\\kedro\\framework\\project\\__init__.py#270\u001b\\\u001b[2m270\u001b[0m\u001b]8;;\u001b\\\n",
       "\u001b[2;36m                    \u001b[0m         \u001b[32m'C:\\Users\\33659\\AppData\\Roaming\\mamba\\envs\\spaceflights310\\lib\\site-pa\u001b[0m \u001b[2m               \u001b[0m\n",
       "\u001b[2;36m                    \u001b[0m         \u001b[32mckages\\kedro\\framework\\project\\rich_logging.yml'\u001b[0m as logging            \u001b[2m               \u001b[0m\n",
       "\u001b[2;36m                    \u001b[0m         configuration.                                                         \u001b[2m               \u001b[0m\n"
      ]
     },
     "metadata": {},
     "output_type": "display_data"
    },
    {
     "data": {
      "text/html": [
       "<pre style=\"white-space:pre;overflow-x:auto;line-height:normal;font-family:Menlo,'DejaVu Sans Mono',consolas,'Courier New',monospace\"><span style=\"color: #7fbfbf; text-decoration-color: #7fbfbf\">                    </span><span style=\"color: #000080; text-decoration-color: #000080\">INFO    </span> Registered line magic <span style=\"color: #008000; text-decoration-color: #008000\">'%reload_kedro'</span>                                   <a href=\"file://C:\\Users\\33659\\AppData\\Roaming\\mamba\\envs\\spaceflights310\\lib\\site-packages\\kedro\\ipython\\__init__.py\" target=\"_blank\"><span style=\"color: #7f7f7f; text-decoration-color: #7f7f7f\">__init__.py</span></a><span style=\"color: #7f7f7f; text-decoration-color: #7f7f7f\">:</span><a href=\"file://C:\\Users\\33659\\AppData\\Roaming\\mamba\\envs\\spaceflights310\\lib\\site-packages\\kedro\\ipython\\__init__.py#61\" target=\"_blank\"><span style=\"color: #7f7f7f; text-decoration-color: #7f7f7f\">61</span></a>\n",
       "</pre>\n"
      ],
      "text/plain": [
       "\u001b[2;36m                   \u001b[0m\u001b[2;36m \u001b[0m\u001b[34mINFO    \u001b[0m Registered line magic \u001b[32m'%reload_kedro'\u001b[0m                                   \u001b]8;id=861120;file://C:\\Users\\33659\\AppData\\Roaming\\mamba\\envs\\spaceflights310\\lib\\site-packages\\kedro\\ipython\\__init__.py\u001b\\\u001b[2m__init__.py\u001b[0m\u001b]8;;\u001b\\\u001b[2m:\u001b[0m\u001b]8;id=295409;file://C:\\Users\\33659\\AppData\\Roaming\\mamba\\envs\\spaceflights310\\lib\\site-packages\\kedro\\ipython\\__init__.py#61\u001b\\\u001b[2m61\u001b[0m\u001b]8;;\u001b\\\n"
      ]
     },
     "metadata": {},
     "output_type": "display_data"
    },
    {
     "data": {
      "text/html": [
       "<pre style=\"white-space:pre;overflow-x:auto;line-height:normal;font-family:Menlo,'DejaVu Sans Mono',consolas,'Courier New',monospace\"><span style=\"color: #7fbfbf; text-decoration-color: #7fbfbf\">                    </span><span style=\"color: #000080; text-decoration-color: #000080\">INFO    </span> Registered line magic <span style=\"color: #008000; text-decoration-color: #008000\">'%load_node'</span>                                      <a href=\"file://C:\\Users\\33659\\AppData\\Roaming\\mamba\\envs\\spaceflights310\\lib\\site-packages\\kedro\\ipython\\__init__.py\" target=\"_blank\"><span style=\"color: #7f7f7f; text-decoration-color: #7f7f7f\">__init__.py</span></a><span style=\"color: #7f7f7f; text-decoration-color: #7f7f7f\">:</span><a href=\"file://C:\\Users\\33659\\AppData\\Roaming\\mamba\\envs\\spaceflights310\\lib\\site-packages\\kedro\\ipython\\__init__.py#63\" target=\"_blank\"><span style=\"color: #7f7f7f; text-decoration-color: #7f7f7f\">63</span></a>\n",
       "</pre>\n"
      ],
      "text/plain": [
       "\u001b[2;36m                   \u001b[0m\u001b[2;36m \u001b[0m\u001b[34mINFO    \u001b[0m Registered line magic \u001b[32m'%load_node'\u001b[0m                                      \u001b]8;id=412908;file://C:\\Users\\33659\\AppData\\Roaming\\mamba\\envs\\spaceflights310\\lib\\site-packages\\kedro\\ipython\\__init__.py\u001b\\\u001b[2m__init__.py\u001b[0m\u001b]8;;\u001b\\\u001b[2m:\u001b[0m\u001b]8;id=575974;file://C:\\Users\\33659\\AppData\\Roaming\\mamba\\envs\\spaceflights310\\lib\\site-packages\\kedro\\ipython\\__init__.py#63\u001b\\\u001b[2m63\u001b[0m\u001b]8;;\u001b\\\n"
      ]
     },
     "metadata": {},
     "output_type": "display_data"
    },
    {
     "data": {
      "text/html": [
       "<pre style=\"white-space:pre;overflow-x:auto;line-height:normal;font-family:Menlo,'DejaVu Sans Mono',consolas,'Courier New',monospace\"><span style=\"color: #7fbfbf; text-decoration-color: #7fbfbf\">                    </span><span style=\"color: #000080; text-decoration-color: #000080\">INFO    </span> Resolved project path as: C:\\code\\kedro-tutorial\\spaceflights.         <a href=\"file://C:\\Users\\33659\\AppData\\Roaming\\mamba\\envs\\spaceflights310\\lib\\site-packages\\kedro\\ipython\\__init__.py\" target=\"_blank\"><span style=\"color: #7f7f7f; text-decoration-color: #7f7f7f\">__init__.py</span></a><span style=\"color: #7f7f7f; text-decoration-color: #7f7f7f\">:</span><a href=\"file://C:\\Users\\33659\\AppData\\Roaming\\mamba\\envs\\spaceflights310\\lib\\site-packages\\kedro\\ipython\\__init__.py#178\" target=\"_blank\"><span style=\"color: #7f7f7f; text-decoration-color: #7f7f7f\">178</span></a>\n",
       "<span style=\"color: #7fbfbf; text-decoration-color: #7fbfbf\">                    </span>         To set a different path, run <span style=\"color: #008000; text-decoration-color: #008000\">'%reload_kedro &lt;project_root&gt;'</span>            <span style=\"color: #7f7f7f; text-decoration-color: #7f7f7f\">               </span>\n",
       "</pre>\n"
      ],
      "text/plain": [
       "\u001b[2;36m                   \u001b[0m\u001b[2;36m \u001b[0m\u001b[34mINFO    \u001b[0m Resolved project path as: C:\\code\\kedro-tutorial\\spaceflights.         \u001b]8;id=991505;file://C:\\Users\\33659\\AppData\\Roaming\\mamba\\envs\\spaceflights310\\lib\\site-packages\\kedro\\ipython\\__init__.py\u001b\\\u001b[2m__init__.py\u001b[0m\u001b]8;;\u001b\\\u001b[2m:\u001b[0m\u001b]8;id=76875;file://C:\\Users\\33659\\AppData\\Roaming\\mamba\\envs\\spaceflights310\\lib\\site-packages\\kedro\\ipython\\__init__.py#178\u001b\\\u001b[2m178\u001b[0m\u001b]8;;\u001b\\\n",
       "\u001b[2;36m                    \u001b[0m         To set a different path, run \u001b[32m'%reload_kedro \u001b[0m\u001b[32m<\u001b[0m\u001b[32mproject_root\u001b[0m\u001b[32m>\u001b[0m\u001b[32m'\u001b[0m            \u001b[2m               \u001b[0m\n"
      ]
     },
     "metadata": {},
     "output_type": "display_data"
    },
    {
     "data": {
      "text/html": [
       "<pre style=\"white-space:pre;overflow-x:auto;line-height:normal;font-family:Menlo,'DejaVu Sans Mono',consolas,'Courier New',monospace\"><span style=\"color: #7fbfbf; text-decoration-color: #7fbfbf\">[11/25/24 08:44:58] </span><span style=\"color: #000080; text-decoration-color: #000080\">INFO    </span> Kedro is sending anonymous usage data with the sole purpose of improving <a href=\"file://C:\\Users\\33659\\AppData\\Roaming\\mamba\\envs\\spaceflights310\\lib\\site-packages\\kedro_telemetry\\plugin.py\" target=\"_blank\"><span style=\"color: #7f7f7f; text-decoration-color: #7f7f7f\">plugin.py</span></a><span style=\"color: #7f7f7f; text-decoration-color: #7f7f7f\">:</span><a href=\"file://C:\\Users\\33659\\AppData\\Roaming\\mamba\\envs\\spaceflights310\\lib\\site-packages\\kedro_telemetry\\plugin.py#233\" target=\"_blank\"><span style=\"color: #7f7f7f; text-decoration-color: #7f7f7f\">233</span></a>\n",
       "<span style=\"color: #7fbfbf; text-decoration-color: #7fbfbf\">                    </span>         the product. No personal data or IP addresses are stored on our side. If <span style=\"color: #7f7f7f; text-decoration-color: #7f7f7f\">             </span>\n",
       "<span style=\"color: #7fbfbf; text-decoration-color: #7fbfbf\">                    </span>         you want to opt out, set the `KEDRO_DISABLE_TELEMETRY` or `DO_NOT_TRACK` <span style=\"color: #7f7f7f; text-decoration-color: #7f7f7f\">             </span>\n",
       "<span style=\"color: #7fbfbf; text-decoration-color: #7fbfbf\">                    </span>         environment variables, or create a `.telemetry` file in the current      <span style=\"color: #7f7f7f; text-decoration-color: #7f7f7f\">             </span>\n",
       "<span style=\"color: #7fbfbf; text-decoration-color: #7fbfbf\">                    </span>         working directory with the contents `consent: false`. Read more at       <span style=\"color: #7f7f7f; text-decoration-color: #7f7f7f\">             </span>\n",
       "<span style=\"color: #7fbfbf; text-decoration-color: #7fbfbf\">                    </span>         <span style=\"color: #0000ff; text-decoration-color: #0000ff; text-decoration: underline\">https://docs.kedro.org/en/stable/configuration/telemetry.html</span>            <span style=\"color: #7f7f7f; text-decoration-color: #7f7f7f\">             </span>\n",
       "</pre>\n"
      ],
      "text/plain": [
       "\u001b[2;36m[11/25/24 08:44:58]\u001b[0m\u001b[2;36m \u001b[0m\u001b[34mINFO    \u001b[0m Kedro is sending anonymous usage data with the sole purpose of improving \u001b]8;id=915641;file://C:\\Users\\33659\\AppData\\Roaming\\mamba\\envs\\spaceflights310\\lib\\site-packages\\kedro_telemetry\\plugin.py\u001b\\\u001b[2mplugin.py\u001b[0m\u001b]8;;\u001b\\\u001b[2m:\u001b[0m\u001b]8;id=799313;file://C:\\Users\\33659\\AppData\\Roaming\\mamba\\envs\\spaceflights310\\lib\\site-packages\\kedro_telemetry\\plugin.py#233\u001b\\\u001b[2m233\u001b[0m\u001b]8;;\u001b\\\n",
       "\u001b[2;36m                    \u001b[0m         the product. No personal data or IP addresses are stored on our side. If \u001b[2m             \u001b[0m\n",
       "\u001b[2;36m                    \u001b[0m         you want to opt out, set the `KEDRO_DISABLE_TELEMETRY` or `DO_NOT_TRACK` \u001b[2m             \u001b[0m\n",
       "\u001b[2;36m                    \u001b[0m         environment variables, or create a `.telemetry` file in the current      \u001b[2m             \u001b[0m\n",
       "\u001b[2;36m                    \u001b[0m         working directory with the contents `consent: false`. Read more at       \u001b[2m             \u001b[0m\n",
       "\u001b[2;36m                    \u001b[0m         \u001b[4;94mhttps://docs.kedro.org/en/stable/configuration/telemetry.html\u001b[0m            \u001b[2m             \u001b[0m\n"
      ]
     },
     "metadata": {},
     "output_type": "display_data"
    },
    {
     "data": {
      "text/html": [
       "<pre style=\"white-space:pre;overflow-x:auto;line-height:normal;font-family:Menlo,'DejaVu Sans Mono',consolas,'Courier New',monospace\"><span style=\"color: #7fbfbf; text-decoration-color: #7fbfbf\">[11/25/24 08:44:59] </span><span style=\"color: #000080; text-decoration-color: #000080\">INFO    </span> Kedro project spaceflights                                             <a href=\"file://C:\\Users\\33659\\AppData\\Roaming\\mamba\\envs\\spaceflights310\\lib\\site-packages\\kedro\\ipython\\__init__.py\" target=\"_blank\"><span style=\"color: #7f7f7f; text-decoration-color: #7f7f7f\">__init__.py</span></a><span style=\"color: #7f7f7f; text-decoration-color: #7f7f7f\">:</span><a href=\"file://C:\\Users\\33659\\AppData\\Roaming\\mamba\\envs\\spaceflights310\\lib\\site-packages\\kedro\\ipython\\__init__.py#144\" target=\"_blank\"><span style=\"color: #7f7f7f; text-decoration-color: #7f7f7f\">144</span></a>\n",
       "</pre>\n"
      ],
      "text/plain": [
       "\u001b[2;36m[11/25/24 08:44:59]\u001b[0m\u001b[2;36m \u001b[0m\u001b[34mINFO    \u001b[0m Kedro project spaceflights                                             \u001b]8;id=634801;file://C:\\Users\\33659\\AppData\\Roaming\\mamba\\envs\\spaceflights310\\lib\\site-packages\\kedro\\ipython\\__init__.py\u001b\\\u001b[2m__init__.py\u001b[0m\u001b]8;;\u001b\\\u001b[2m:\u001b[0m\u001b]8;id=575777;file://C:\\Users\\33659\\AppData\\Roaming\\mamba\\envs\\spaceflights310\\lib\\site-packages\\kedro\\ipython\\__init__.py#144\u001b\\\u001b[2m144\u001b[0m\u001b]8;;\u001b\\\n"
      ]
     },
     "metadata": {},
     "output_type": "display_data"
    },
    {
     "data": {
      "text/html": [
       "<pre style=\"white-space:pre;overflow-x:auto;line-height:normal;font-family:Menlo,'DejaVu Sans Mono',consolas,'Courier New',monospace\"><span style=\"color: #7fbfbf; text-decoration-color: #7fbfbf\">                    </span><span style=\"color: #000080; text-decoration-color: #000080\">INFO    </span> Defined global variable <span style=\"color: #008000; text-decoration-color: #008000\">'context'</span>, <span style=\"color: #008000; text-decoration-color: #008000\">'session'</span>, <span style=\"color: #008000; text-decoration-color: #008000\">'catalog'</span> and            <a href=\"file://C:\\Users\\33659\\AppData\\Roaming\\mamba\\envs\\spaceflights310\\lib\\site-packages\\kedro\\ipython\\__init__.py\" target=\"_blank\"><span style=\"color: #7f7f7f; text-decoration-color: #7f7f7f\">__init__.py</span></a><span style=\"color: #7f7f7f; text-decoration-color: #7f7f7f\">:</span><a href=\"file://C:\\Users\\33659\\AppData\\Roaming\\mamba\\envs\\spaceflights310\\lib\\site-packages\\kedro\\ipython\\__init__.py#145\" target=\"_blank\"><span style=\"color: #7f7f7f; text-decoration-color: #7f7f7f\">145</span></a>\n",
       "<span style=\"color: #7fbfbf; text-decoration-color: #7fbfbf\">                    </span>         <span style=\"color: #008000; text-decoration-color: #008000\">'pipelines'</span>                                                            <span style=\"color: #7f7f7f; text-decoration-color: #7f7f7f\">               </span>\n",
       "</pre>\n"
      ],
      "text/plain": [
       "\u001b[2;36m                   \u001b[0m\u001b[2;36m \u001b[0m\u001b[34mINFO    \u001b[0m Defined global variable \u001b[32m'context'\u001b[0m, \u001b[32m'session'\u001b[0m, \u001b[32m'catalog'\u001b[0m and            \u001b]8;id=89158;file://C:\\Users\\33659\\AppData\\Roaming\\mamba\\envs\\spaceflights310\\lib\\site-packages\\kedro\\ipython\\__init__.py\u001b\\\u001b[2m__init__.py\u001b[0m\u001b]8;;\u001b\\\u001b[2m:\u001b[0m\u001b]8;id=946924;file://C:\\Users\\33659\\AppData\\Roaming\\mamba\\envs\\spaceflights310\\lib\\site-packages\\kedro\\ipython\\__init__.py#145\u001b\\\u001b[2m145\u001b[0m\u001b]8;;\u001b\\\n",
       "\u001b[2;36m                    \u001b[0m         \u001b[32m'pipelines'\u001b[0m                                                            \u001b[2m               \u001b[0m\n"
      ]
     },
     "metadata": {},
     "output_type": "display_data"
    }
   ],
   "source": [
    "%load_ext kedro.ipython"
   ]
  },
  {
   "cell_type": "code",
   "execution_count": 3,
   "id": "214ee081-6078-4f11-9600-9a8464f392cc",
   "metadata": {},
   "outputs": [
    {
     "data": {
      "text/html": [
       "<pre style=\"white-space:pre;overflow-x:auto;line-height:normal;font-family:Menlo,'DejaVu Sans Mono',consolas,'Courier New',monospace\"></pre>\n"
      ],
      "text/plain": []
     },
     "metadata": {},
     "output_type": "display_data"
    },
    {
     "data": {
      "text/plain": [
       "\n",
       "\u001b[1m{\u001b[0m\u001b[32m'companies'\u001b[0m: \u001b[32m\"kedro_datasets.pandas.csv_dataset.CSVDataset\u001b[0m\u001b[32m(\u001b[0m\u001b[32mfilepath\u001b[0m\u001b[32m=\u001b[0m\u001b[32mPurePosixPath\u001b[0m\u001b[32m(\u001b[0m\u001b[32m'C:/code/kedro-tutorial/spaceflights/data/01_raw/companies.csv'\u001b[0m\u001b[32m)\u001b[0m\u001b[32m, \"\u001b[0m\n",
       "              \u001b[32m\"\u001b[0m\u001b[32mprotocol\u001b[0m\u001b[32m='file', \u001b[0m\u001b[32mload_args\u001b[0m\u001b[32m=\u001b[0m\u001b[32m{\u001b[0m\u001b[32m}\u001b[0m\u001b[32m, \u001b[0m\u001b[32msave_args\u001b[0m\u001b[32m=\u001b[0m\u001b[32m{\u001b[0m\u001b[32m'index': False\u001b[0m\u001b[32m}\u001b[0m\u001b[32m)\u001b[0m\u001b[32m\"\u001b[0m,\n",
       " \u001b[32m'reviews'\u001b[0m: \u001b[32m\"kedro_datasets.pandas.csv_dataset.CSVDataset\u001b[0m\u001b[32m(\u001b[0m\u001b[32mfilepath\u001b[0m\u001b[32m=\u001b[0m\u001b[32mPurePosixPath\u001b[0m\u001b[32m(\u001b[0m\u001b[32m'C:/code/kedro-tutorial/spaceflights/data/01_raw/reviews.csv'\u001b[0m\u001b[32m)\u001b[0m\u001b[32m, \"\u001b[0m\n",
       "            \u001b[32m\"\u001b[0m\u001b[32mprotocol\u001b[0m\u001b[32m='file', \u001b[0m\u001b[32mload_args\u001b[0m\u001b[32m=\u001b[0m\u001b[32m{\u001b[0m\u001b[32m}\u001b[0m\u001b[32m, \u001b[0m\u001b[32msave_args\u001b[0m\u001b[32m=\u001b[0m\u001b[32m{\u001b[0m\u001b[32m'index': False\u001b[0m\u001b[32m}\u001b[0m\u001b[32m)\u001b[0m\u001b[32m\"\u001b[0m,\n",
       " \u001b[32m'shuttles'\u001b[0m: \u001b[32m\"kedro_datasets.pandas.excel_dataset.ExcelDataset\u001b[0m\u001b[32m(\u001b[0m\u001b[32mfilepath\u001b[0m\u001b[32m=\u001b[0m\u001b[32mPurePosixPath\u001b[0m\u001b[32m(\u001b[0m\u001b[32m'C:/code/kedro-tutorial/spaceflights/data/01_raw/shuttles.xlsx'\u001b[0m\u001b[32m)\u001b[0m\u001b[32m, \"\u001b[0m\n",
       "             \u001b[32m\"\u001b[0m\u001b[32mprotocol\u001b[0m\u001b[32m='file', \u001b[0m\u001b[32mload_args\u001b[0m\u001b[32m=\u001b[0m\u001b[32m{\u001b[0m\u001b[32m'engine': 'openpyxl'\u001b[0m\u001b[32m}\u001b[0m\u001b[32m, \"\u001b[0m\n",
       "             \u001b[32m\"\u001b[0m\u001b[32msave_args\u001b[0m\u001b[32m=\u001b[0m\u001b[32m{\u001b[0m\u001b[32m'index': False\u001b[0m\u001b[32m}\u001b[0m\u001b[32m, \u001b[0m\u001b[32mwriter_args\u001b[0m\u001b[32m=\u001b[0m\u001b[32m{\u001b[0m\u001b[32m'engine': 'openpyxl'\u001b[0m\u001b[32m}\u001b[0m\u001b[32m)\u001b[0m\u001b[32m\"\u001b[0m,\n",
       " \u001b[32m'parameters'\u001b[0m: \u001b[32m\"kedro.io.memory_dataset.MemoryDataset\u001b[0m\u001b[32m(\u001b[0m\u001b[32mdata\u001b[0m\u001b[32m='\u001b[0m\u001b[32m<\u001b[0m\u001b[32mdict\u001b[0m\u001b[32m>\u001b[0m\u001b[32m'\u001b[0m\u001b[32m)\u001b[0m\u001b[32m\"\u001b[0m\u001b[1m}\u001b[0m"
      ]
     },
     "execution_count": 3,
     "metadata": {},
     "output_type": "execute_result"
    }
   ],
   "source": [
    "catalog"
   ]
  },
  {
   "cell_type": "code",
   "execution_count": 4,
   "id": "6a7a719a-94e7-46aa-be05-1abc677dd54c",
   "metadata": {},
   "outputs": [
    {
     "data": {
      "text/html": [
       "<pre style=\"white-space:pre;overflow-x:auto;line-height:normal;font-family:Menlo,'DejaVu Sans Mono',consolas,'Courier New',monospace\"><span style=\"color: #7fbfbf; text-decoration-color: #7fbfbf\">                    </span><span style=\"color: #000080; text-decoration-color: #000080\">INFO    </span> Loading data from <span style=\"color: #ff8700; text-decoration-color: #ff8700\">companies</span> <span style=\"font-weight: bold\">(</span>CSVDataset<span style=\"font-weight: bold\">)</span><span style=\"color: #808000; text-decoration-color: #808000\">...</span>                        <a href=\"file://C:\\Users\\33659\\AppData\\Roaming\\mamba\\envs\\spaceflights310\\lib\\site-packages\\kedro\\io\\data_catalog.py\" target=\"_blank\"><span style=\"color: #7f7f7f; text-decoration-color: #7f7f7f\">data_catalog.py</span></a><span style=\"color: #7f7f7f; text-decoration-color: #7f7f7f\">:</span><a href=\"file://C:\\Users\\33659\\AppData\\Roaming\\mamba\\envs\\spaceflights310\\lib\\site-packages\\kedro\\io\\data_catalog.py#389\" target=\"_blank\"><span style=\"color: #7f7f7f; text-decoration-color: #7f7f7f\">389</span></a>\n",
       "</pre>\n"
      ],
      "text/plain": [
       "\u001b[2;36m                   \u001b[0m\u001b[2;36m \u001b[0m\u001b[34mINFO    \u001b[0m Loading data from \u001b[38;5;208mcompanies\u001b[0m \u001b[1m(\u001b[0mCSVDataset\u001b[1m)\u001b[0m\u001b[33m...\u001b[0m                        \u001b]8;id=697079;file://C:\\Users\\33659\\AppData\\Roaming\\mamba\\envs\\spaceflights310\\lib\\site-packages\\kedro\\io\\data_catalog.py\u001b\\\u001b[2mdata_catalog.py\u001b[0m\u001b]8;;\u001b\\\u001b[2m:\u001b[0m\u001b]8;id=752156;file://C:\\Users\\33659\\AppData\\Roaming\\mamba\\envs\\spaceflights310\\lib\\site-packages\\kedro\\io\\data_catalog.py#389\u001b\\\u001b[2m389\u001b[0m\u001b]8;;\u001b\\\n"
      ]
     },
     "metadata": {},
     "output_type": "display_data"
    },
    {
     "data": {
      "text/html": [
       "<pre style=\"white-space:pre;overflow-x:auto;line-height:normal;font-family:Menlo,'DejaVu Sans Mono',consolas,'Courier New',monospace\"></pre>\n"
      ],
      "text/plain": []
     },
     "metadata": {},
     "output_type": "display_data"
    },
    {
     "data": {
      "text/html": [
       "<div>\n",
       "<style scoped>\n",
       "    .dataframe tbody tr th:only-of-type {\n",
       "        vertical-align: middle;\n",
       "    }\n",
       "\n",
       "    .dataframe tbody tr th {\n",
       "        vertical-align: top;\n",
       "    }\n",
       "\n",
       "    .dataframe thead th {\n",
       "        text-align: right;\n",
       "    }\n",
       "</style>\n",
       "<table border=\"1\" class=\"dataframe\">\n",
       "  <thead>\n",
       "    <tr style=\"text-align: right;\">\n",
       "      <th></th>\n",
       "      <th>id</th>\n",
       "      <th>company_rating</th>\n",
       "      <th>company_location</th>\n",
       "      <th>total_fleet_count</th>\n",
       "      <th>iata_approved</th>\n",
       "    </tr>\n",
       "  </thead>\n",
       "  <tbody>\n",
       "    <tr>\n",
       "      <th>0</th>\n",
       "      <td>35029</td>\n",
       "      <td>100%</td>\n",
       "      <td>Niue</td>\n",
       "      <td>4.0</td>\n",
       "      <td>f</td>\n",
       "    </tr>\n",
       "    <tr>\n",
       "      <th>1</th>\n",
       "      <td>30292</td>\n",
       "      <td>67%</td>\n",
       "      <td>Anguilla</td>\n",
       "      <td>6.0</td>\n",
       "      <td>f</td>\n",
       "    </tr>\n",
       "    <tr>\n",
       "      <th>2</th>\n",
       "      <td>19032</td>\n",
       "      <td>67%</td>\n",
       "      <td>Russian Federation</td>\n",
       "      <td>4.0</td>\n",
       "      <td>f</td>\n",
       "    </tr>\n",
       "    <tr>\n",
       "      <th>3</th>\n",
       "      <td>8238</td>\n",
       "      <td>91%</td>\n",
       "      <td>Barbados</td>\n",
       "      <td>15.0</td>\n",
       "      <td>t</td>\n",
       "    </tr>\n",
       "    <tr>\n",
       "      <th>4</th>\n",
       "      <td>30342</td>\n",
       "      <td>NaN</td>\n",
       "      <td>Sao Tome and Principe</td>\n",
       "      <td>2.0</td>\n",
       "      <td>t</td>\n",
       "    </tr>\n",
       "  </tbody>\n",
       "</table>\n",
       "</div>"
      ],
      "text/plain": [
       "\n",
       "      id company_rating       company_location  total_fleet_count  \\\n",
       "\u001b[1;36m0\u001b[0m  \u001b[1;36m35029\u001b[0m           \u001b[1;36m100\u001b[0m%                   Niue                \u001b[1;36m4.0\u001b[0m   \n",
       "\u001b[1;36m1\u001b[0m  \u001b[1;36m30292\u001b[0m            \u001b[1;36m67\u001b[0m%               Anguilla                \u001b[1;36m6.0\u001b[0m   \n",
       "\u001b[1;36m2\u001b[0m  \u001b[1;36m19032\u001b[0m            \u001b[1;36m67\u001b[0m%     Russian Federation                \u001b[1;36m4.0\u001b[0m   \n",
       "\u001b[1;36m3\u001b[0m   \u001b[1;36m8238\u001b[0m            \u001b[1;36m91\u001b[0m%               Barbados               \u001b[1;36m15.0\u001b[0m   \n",
       "\u001b[1;36m4\u001b[0m  \u001b[1;36m30342\u001b[0m            NaN  Sao Tome and Principe                \u001b[1;36m2.0\u001b[0m   \n",
       "\n",
       "  iata_approved  \n",
       "\u001b[1;36m0\u001b[0m             f  \n",
       "\u001b[1;36m1\u001b[0m             f  \n",
       "\u001b[1;36m2\u001b[0m             f  \n",
       "\u001b[1;36m3\u001b[0m             t  \n",
       "\u001b[1;36m4\u001b[0m             t  "
      ]
     },
     "execution_count": 4,
     "metadata": {},
     "output_type": "execute_result"
    }
   ],
   "source": [
    "df = catalog.load(\"companies\")\n",
    "\n",
    "df.head()"
   ]
  },
  {
   "cell_type": "code",
   "execution_count": 5,
   "id": "2dd967c4-4dc1-4010-ba81-ed6863436bb0",
   "metadata": {},
   "outputs": [
    {
     "data": {
      "text/html": [
       "<pre style=\"white-space:pre;overflow-x:auto;line-height:normal;font-family:Menlo,'DejaVu Sans Mono',consolas,'Courier New',monospace\"><span style=\"color: #7fbfbf; text-decoration-color: #7fbfbf\">                    </span><span style=\"color: #000080; text-decoration-color: #000080\">INFO    </span> Loading data from <span style=\"color: #ff8700; text-decoration-color: #ff8700\">companies</span> <span style=\"font-weight: bold\">(</span>CSVDataset<span style=\"font-weight: bold\">)</span><span style=\"color: #808000; text-decoration-color: #808000\">...</span>                        <a href=\"file://C:\\Users\\33659\\AppData\\Roaming\\mamba\\envs\\spaceflights310\\lib\\site-packages\\kedro\\io\\data_catalog.py\" target=\"_blank\"><span style=\"color: #7f7f7f; text-decoration-color: #7f7f7f\">data_catalog.py</span></a><span style=\"color: #7f7f7f; text-decoration-color: #7f7f7f\">:</span><a href=\"file://C:\\Users\\33659\\AppData\\Roaming\\mamba\\envs\\spaceflights310\\lib\\site-packages\\kedro\\io\\data_catalog.py#389\" target=\"_blank\"><span style=\"color: #7f7f7f; text-decoration-color: #7f7f7f\">389</span></a>\n",
       "</pre>\n"
      ],
      "text/plain": [
       "\u001b[2;36m                   \u001b[0m\u001b[2;36m \u001b[0m\u001b[34mINFO    \u001b[0m Loading data from \u001b[38;5;208mcompanies\u001b[0m \u001b[1m(\u001b[0mCSVDataset\u001b[1m)\u001b[0m\u001b[33m...\u001b[0m                        \u001b]8;id=982723;file://C:\\Users\\33659\\AppData\\Roaming\\mamba\\envs\\spaceflights310\\lib\\site-packages\\kedro\\io\\data_catalog.py\u001b\\\u001b[2mdata_catalog.py\u001b[0m\u001b]8;;\u001b\\\u001b[2m:\u001b[0m\u001b]8;id=934290;file://C:\\Users\\33659\\AppData\\Roaming\\mamba\\envs\\spaceflights310\\lib\\site-packages\\kedro\\io\\data_catalog.py#389\u001b\\\u001b[2m389\u001b[0m\u001b]8;;\u001b\\\n"
      ]
     },
     "metadata": {},
     "output_type": "display_data"
    }
   ],
   "source": [
    "companies = catalog.load(\"companies\")"
   ]
  },
  {
   "cell_type": "code",
   "execution_count": 6,
   "id": "d444d184-426c-4d7b-9803-abc638001209",
   "metadata": {},
   "outputs": [
    {
     "data": {
      "text/html": [
       "<pre style=\"white-space:pre;overflow-x:auto;line-height:normal;font-family:Menlo,'DejaVu Sans Mono',consolas,'Courier New',monospace\"></pre>\n"
      ],
      "text/plain": []
     },
     "metadata": {},
     "output_type": "display_data"
    },
    {
     "data": {
      "text/plain": [
       "\n",
       "id                     int64\n",
       "company_rating        object\n",
       "company_location      object\n",
       "total_fleet_count    float64\n",
       "iata_approved         object\n",
       "dtype: object"
      ]
     },
     "execution_count": 6,
     "metadata": {},
     "output_type": "execute_result"
    }
   ],
   "source": [
    "companies.dtypes"
   ]
  },
  {
   "cell_type": "code",
   "execution_count": 7,
   "id": "f1470a83-28d7-45d8-a4e0-c25872083e91",
   "metadata": {},
   "outputs": [],
   "source": [
    "companies[\"iata_approved\"] = companies[\"iata_approved\"] == \"t\""
   ]
  },
  {
   "cell_type": "code",
   "execution_count": 8,
   "id": "3b37b9f2-f659-4cfa-a8a7-ffc6cd77b6df",
   "metadata": {},
   "outputs": [
    {
     "data": {
      "text/html": [
       "<pre style=\"white-space:pre;overflow-x:auto;line-height:normal;font-family:Menlo,'DejaVu Sans Mono',consolas,'Courier New',monospace\"></pre>\n"
      ],
      "text/plain": []
     },
     "metadata": {},
     "output_type": "display_data"
    },
    {
     "data": {
      "text/plain": [
       "\n",
       "id                     int64\n",
       "company_rating        object\n",
       "company_location      object\n",
       "total_fleet_count    float64\n",
       "iata_approved           bool\n",
       "dtype: object"
      ]
     },
     "execution_count": 8,
     "metadata": {},
     "output_type": "execute_result"
    }
   ],
   "source": [
    "companies.dtypes"
   ]
  },
  {
   "cell_type": "code",
   "execution_count": 9,
   "id": "5bfd5482-c89f-4ef2-9dca-b363de40270e",
   "metadata": {},
   "outputs": [],
   "source": [
    "companies[\"company_rating\"] = companies[\"company_rating\"].str.replace(\"%\",\"\").astype(float)"
   ]
  },
  {
   "cell_type": "code",
   "execution_count": 10,
   "id": "3e4d862c-226f-4253-a3ec-ce11f2f73e78",
   "metadata": {},
   "outputs": [],
   "source": [
    "import pandas as pd"
   ]
  },
  {
   "cell_type": "code",
   "execution_count": 11,
   "id": "30e2b06c-a764-4bf5-94c2-88c13bd923a9",
   "metadata": {},
   "outputs": [],
   "source": [
    "def _is_true(x: pd.Series) -> pd.Series:\n",
    "    return x == \"t\""
   ]
  },
  {
   "cell_type": "code",
   "execution_count": 12,
   "id": "2e8b78df-8a3b-4861-8aa1-3d6179bfb472",
   "metadata": {},
   "outputs": [],
   "source": [
    "companies[\"iata_approved\"] = _is_true(companies[\"iata_approved\"])"
   ]
  },
  {
   "cell_type": "code",
   "execution_count": 21,
   "id": "8783e07e-3fec-4c4c-8705-defb0a2c62c7",
   "metadata": {},
   "outputs": [
    {
     "data": {
      "text/html": [
       "<pre style=\"white-space:pre;overflow-x:auto;line-height:normal;font-family:Menlo,'DejaVu Sans Mono',consolas,'Courier New',monospace\"></pre>\n"
      ],
      "text/plain": []
     },
     "metadata": {},
     "output_type": "display_data"
    },
    {
     "data": {
      "text/html": [
       "<div>\n",
       "<style scoped>\n",
       "    .dataframe tbody tr th:only-of-type {\n",
       "        vertical-align: middle;\n",
       "    }\n",
       "\n",
       "    .dataframe tbody tr th {\n",
       "        vertical-align: top;\n",
       "    }\n",
       "\n",
       "    .dataframe thead th {\n",
       "        text-align: right;\n",
       "    }\n",
       "</style>\n",
       "<table border=\"1\" class=\"dataframe\">\n",
       "  <thead>\n",
       "    <tr style=\"text-align: right;\">\n",
       "      <th></th>\n",
       "      <th>id</th>\n",
       "      <th>company_rating</th>\n",
       "      <th>company_location</th>\n",
       "      <th>total_fleet_count</th>\n",
       "      <th>iata_approved</th>\n",
       "    </tr>\n",
       "  </thead>\n",
       "  <tbody>\n",
       "    <tr>\n",
       "      <th>0</th>\n",
       "      <td>35029</td>\n",
       "      <td>100.0</td>\n",
       "      <td>Niue</td>\n",
       "      <td>4.0</td>\n",
       "      <td>False</td>\n",
       "    </tr>\n",
       "    <tr>\n",
       "      <th>1</th>\n",
       "      <td>30292</td>\n",
       "      <td>67.0</td>\n",
       "      <td>Anguilla</td>\n",
       "      <td>6.0</td>\n",
       "      <td>False</td>\n",
       "    </tr>\n",
       "    <tr>\n",
       "      <th>2</th>\n",
       "      <td>19032</td>\n",
       "      <td>67.0</td>\n",
       "      <td>Russian Federation</td>\n",
       "      <td>4.0</td>\n",
       "      <td>False</td>\n",
       "    </tr>\n",
       "    <tr>\n",
       "      <th>3</th>\n",
       "      <td>8238</td>\n",
       "      <td>91.0</td>\n",
       "      <td>Barbados</td>\n",
       "      <td>15.0</td>\n",
       "      <td>False</td>\n",
       "    </tr>\n",
       "    <tr>\n",
       "      <th>4</th>\n",
       "      <td>30342</td>\n",
       "      <td>NaN</td>\n",
       "      <td>Sao Tome and Principe</td>\n",
       "      <td>2.0</td>\n",
       "      <td>False</td>\n",
       "    </tr>\n",
       "  </tbody>\n",
       "</table>\n",
       "</div>"
      ],
      "text/plain": [
       "\n",
       "      id  company_rating       company_location  total_fleet_count  \\\n",
       "\u001b[1;36m0\u001b[0m  \u001b[1;36m35029\u001b[0m           \u001b[1;36m100.0\u001b[0m                   Niue                \u001b[1;36m4.0\u001b[0m   \n",
       "\u001b[1;36m1\u001b[0m  \u001b[1;36m30292\u001b[0m            \u001b[1;36m67.0\u001b[0m               Anguilla                \u001b[1;36m6.0\u001b[0m   \n",
       "\u001b[1;36m2\u001b[0m  \u001b[1;36m19032\u001b[0m            \u001b[1;36m67.0\u001b[0m     Russian Federation                \u001b[1;36m4.0\u001b[0m   \n",
       "\u001b[1;36m3\u001b[0m   \u001b[1;36m8238\u001b[0m            \u001b[1;36m91.0\u001b[0m               Barbados               \u001b[1;36m15.0\u001b[0m   \n",
       "\u001b[1;36m4\u001b[0m  \u001b[1;36m30342\u001b[0m             NaN  Sao Tome and Principe                \u001b[1;36m2.0\u001b[0m   \n",
       "\n",
       "   iata_approved  \n",
       "\u001b[1;36m0\u001b[0m          \u001b[3;91mFalse\u001b[0m  \n",
       "\u001b[1;36m1\u001b[0m          \u001b[3;91mFalse\u001b[0m  \n",
       "\u001b[1;36m2\u001b[0m          \u001b[3;91mFalse\u001b[0m  \n",
       "\u001b[1;36m3\u001b[0m          \u001b[3;91mFalse\u001b[0m  \n",
       "\u001b[1;36m4\u001b[0m          \u001b[3;91mFalse\u001b[0m  "
      ]
     },
     "execution_count": 21,
     "metadata": {},
     "output_type": "execute_result"
    }
   ],
   "source": [
    "companies.head()"
   ]
  },
  {
   "cell_type": "code",
   "execution_count": 14,
   "id": "09dfd9d8-15ee-4d4c-83b8-b012e65d5a33",
   "metadata": {},
   "outputs": [],
   "source": [
    "def _parse_percentage(x: pd.Series) -> pd.Series:\n",
    "    return x.replace(\"%\", \"\").astype(float)"
   ]
  },
  {
   "cell_type": "code",
   "execution_count": 19,
   "id": "c96ad54d-5e27-4cc8-a506-616a48951c71",
   "metadata": {},
   "outputs": [],
   "source": [
    "companies[\"company_rating\"] = _parse_percentage(companies[\"company_rating\"])"
   ]
  },
  {
   "cell_type": "code",
   "execution_count": 20,
   "id": "a0398001-a3ba-44c9-9ba6-40e687f4ec6b",
   "metadata": {},
   "outputs": [
    {
     "data": {
      "text/html": [
       "<pre style=\"white-space:pre;overflow-x:auto;line-height:normal;font-family:Menlo,'DejaVu Sans Mono',consolas,'Courier New',monospace\"></pre>\n"
      ],
      "text/plain": []
     },
     "metadata": {},
     "output_type": "display_data"
    },
    {
     "data": {
      "text/plain": [
       "\n",
       "\u001b[1m<\u001b[0m\u001b[1;95mbound\u001b[0m\u001b[39m method NDFrame.head of           id  company_rating       company_location  total_fleet_count  \\\u001b[0m\n",
       "\u001b[1;36m0\u001b[0m\u001b[39m      \u001b[0m\u001b[1;36m35029\u001b[0m\u001b[39m           \u001b[0m\u001b[1;36m100.0\u001b[0m\u001b[39m                   Niue                \u001b[0m\u001b[1;36m4.0\u001b[0m\u001b[39m   \u001b[0m\n",
       "\u001b[1;36m1\u001b[0m\u001b[39m      \u001b[0m\u001b[1;36m30292\u001b[0m\u001b[39m            \u001b[0m\u001b[1;36m67.0\u001b[0m\u001b[39m               Anguilla                \u001b[0m\u001b[1;36m6.0\u001b[0m\u001b[39m   \u001b[0m\n",
       "\u001b[1;36m2\u001b[0m\u001b[39m      \u001b[0m\u001b[1;36m19032\u001b[0m\u001b[39m            \u001b[0m\u001b[1;36m67.0\u001b[0m\u001b[39m     Russian Federation                \u001b[0m\u001b[1;36m4.0\u001b[0m\u001b[39m   \u001b[0m\n",
       "\u001b[1;36m3\u001b[0m\u001b[39m       \u001b[0m\u001b[1;36m8238\u001b[0m\u001b[39m            \u001b[0m\u001b[1;36m91.0\u001b[0m\u001b[39m               Barbados               \u001b[0m\u001b[1;36m15.0\u001b[0m\u001b[39m   \u001b[0m\n",
       "\u001b[1;36m4\u001b[0m\u001b[39m      \u001b[0m\u001b[1;36m30342\u001b[0m\u001b[39m             NaN  Sao Tome and Principe                \u001b[0m\u001b[1;36m2.0\u001b[0m\u001b[39m   \u001b[0m\n",
       "\u001b[33m...\u001b[0m\u001b[39m      \u001b[0m\u001b[33m...\u001b[0m\u001b[39m             \u001b[0m\u001b[33m...\u001b[0m\u001b[39m                    \u001b[0m\u001b[33m...\u001b[0m\u001b[39m                \u001b[0m\u001b[33m...\u001b[0m\u001b[39m   \u001b[0m\n",
       "\u001b[1;36m77091\u001b[0m\u001b[39m   \u001b[0m\u001b[1;36m6654\u001b[0m\u001b[39m           \u001b[0m\u001b[1;36m100.0\u001b[0m\u001b[39m                  Tonga                \u001b[0m\u001b[1;36m3.0\u001b[0m\u001b[39m   \u001b[0m\n",
       "\u001b[1;36m77092\u001b[0m\u001b[39m   \u001b[0m\u001b[1;36m8000\u001b[0m\u001b[39m             NaN                  Chile                \u001b[0m\u001b[1;36m2.0\u001b[0m\u001b[39m   \u001b[0m\n",
       "\u001b[1;36m77093\u001b[0m\u001b[39m  \u001b[0m\u001b[1;36m14296\u001b[0m\u001b[39m             NaN            Netherlands                \u001b[0m\u001b[1;36m4.0\u001b[0m\u001b[39m   \u001b[0m\n",
       "\u001b[1;36m77094\u001b[0m\u001b[39m  \u001b[0m\u001b[1;36m27363\u001b[0m\u001b[39m            \u001b[0m\u001b[1;36m80.0\u001b[0m\u001b[39m                    NaN                \u001b[0m\u001b[1;36m3.0\u001b[0m\u001b[39m   \u001b[0m\n",
       "\u001b[1;36m77095\u001b[0m\u001b[39m  \u001b[0m\u001b[1;36m12542\u001b[0m\u001b[39m            \u001b[0m\u001b[1;36m98.0\u001b[0m\u001b[39m             Mauritania               \u001b[0m\u001b[1;36m19.0\u001b[0m\u001b[39m   \u001b[0m\n",
       "\n",
       "\u001b[39m       iata_approved  \u001b[0m\n",
       "\u001b[1;36m0\u001b[0m\u001b[39m              \u001b[0m\u001b[3;91mFalse\u001b[0m\u001b[39m  \u001b[0m\n",
       "\u001b[1;36m1\u001b[0m\u001b[39m              \u001b[0m\u001b[3;91mFalse\u001b[0m\u001b[39m  \u001b[0m\n",
       "\u001b[1;36m2\u001b[0m\u001b[39m              \u001b[0m\u001b[3;91mFalse\u001b[0m\u001b[39m  \u001b[0m\n",
       "\u001b[1;36m3\u001b[0m\u001b[39m              \u001b[0m\u001b[3;91mFalse\u001b[0m\u001b[39m  \u001b[0m\n",
       "\u001b[1;36m4\u001b[0m\u001b[39m              \u001b[0m\u001b[3;91mFalse\u001b[0m\u001b[39m  \u001b[0m\n",
       "\u001b[33m...\u001b[0m\u001b[39m              \u001b[0m\u001b[33m...\u001b[0m\u001b[39m  \u001b[0m\n",
       "\u001b[1;36m77091\u001b[0m\u001b[39m          \u001b[0m\u001b[3;91mFalse\u001b[0m\u001b[39m  \u001b[0m\n",
       "\u001b[1;36m77092\u001b[0m\u001b[39m          \u001b[0m\u001b[3;91mFalse\u001b[0m\u001b[39m  \u001b[0m\n",
       "\u001b[1;36m77093\u001b[0m\u001b[39m          \u001b[0m\u001b[3;91mFalse\u001b[0m\u001b[39m  \u001b[0m\n",
       "\u001b[1;36m77094\u001b[0m\u001b[39m          \u001b[0m\u001b[3;91mFalse\u001b[0m\u001b[39m  \u001b[0m\n",
       "\u001b[1;36m77095\u001b[0m\u001b[39m          \u001b[0m\u001b[3;91mFalse\u001b[0m\u001b[39m  \u001b[0m\n",
       "\n",
       "\u001b[1;39m[\u001b[0m\u001b[1;36m77096\u001b[0m\u001b[39m rows x \u001b[0m\u001b[1;36m5\u001b[0m\u001b[39m columns\u001b[0m\u001b[1;39m]\u001b[0m\u001b[1m>\u001b[0m"
      ]
     },
     "execution_count": 20,
     "metadata": {},
     "output_type": "execute_result"
    }
   ],
   "source": [
    "companies.head"
   ]
  },
  {
   "cell_type": "code",
   "execution_count": 15,
   "id": "bbc57494-e3c9-4a2a-9fe1-8b8b8bbe5274",
   "metadata": {},
   "outputs": [
    {
     "data": {
      "text/html": [
       "<pre style=\"white-space:pre;overflow-x:auto;line-height:normal;font-family:Menlo,'DejaVu Sans Mono',consolas,'Courier New',monospace\"></pre>\n"
      ],
      "text/plain": []
     },
     "metadata": {},
     "output_type": "display_data"
    },
    {
     "data": {
      "text/plain": [
       "\n",
       "id                     int64\n",
       "company_rating       float64\n",
       "company_location      object\n",
       "total_fleet_count    float64\n",
       "iata_approved           bool\n",
       "dtype: object"
      ]
     },
     "execution_count": 15,
     "metadata": {},
     "output_type": "execute_result"
    }
   ],
   "source": [
    "companies.dtypes"
   ]
  },
  {
   "cell_type": "code",
   "execution_count": 16,
   "id": "889ddbb4-4c71-43d6-8528-f17e55b9231d",
   "metadata": {},
   "outputs": [
    {
     "data": {
      "text/html": [
       "<pre style=\"white-space:pre;overflow-x:auto;line-height:normal;font-family:Menlo,'DejaVu Sans Mono',consolas,'Courier New',monospace\"></pre>\n"
      ],
      "text/plain": []
     },
     "metadata": {},
     "output_type": "display_data"
    },
    {
     "data": {
      "text/plain": [
       "\u001b[1m<\u001b[0m\u001b[1;95mclass\u001b[0m\u001b[39m \u001b[0m\u001b[32m'pandas.core.frame.DataFrame'\u001b[0m\u001b[1m>\u001b[0m"
      ]
     },
     "execution_count": 16,
     "metadata": {},
     "output_type": "execute_result"
    }
   ],
   "source": [
    "type(df)"
   ]
  },
  {
   "cell_type": "code",
   "execution_count": 17,
   "id": "acd3b34b-ffb0-4ffc-b52f-0cd92e50b697",
   "metadata": {},
   "outputs": [
    {
     "data": {
      "text/html": [
       "<pre style=\"white-space:pre;overflow-x:auto;line-height:normal;font-family:Menlo,'DejaVu Sans Mono',consolas,'Courier New',monospace\"><span style=\"color: #7fbfbf; text-decoration-color: #7fbfbf\">                    </span><span style=\"color: #000080; text-decoration-color: #000080\">INFO    </span> Loading data from <span style=\"color: #ff8700; text-decoration-color: #ff8700\">shuttles</span> <span style=\"font-weight: bold\">(</span>ExcelDataset<span style=\"font-weight: bold\">)</span><span style=\"color: #808000; text-decoration-color: #808000\">...</span>                       <a href=\"file://C:\\Users\\33659\\AppData\\Roaming\\mamba\\envs\\spaceflights310\\lib\\site-packages\\kedro\\io\\data_catalog.py\" target=\"_blank\"><span style=\"color: #7f7f7f; text-decoration-color: #7f7f7f\">data_catalog.py</span></a><span style=\"color: #7f7f7f; text-decoration-color: #7f7f7f\">:</span><a href=\"file://C:\\Users\\33659\\AppData\\Roaming\\mamba\\envs\\spaceflights310\\lib\\site-packages\\kedro\\io\\data_catalog.py#389\" target=\"_blank\"><span style=\"color: #7f7f7f; text-decoration-color: #7f7f7f\">389</span></a>\n",
       "</pre>\n"
      ],
      "text/plain": [
       "\u001b[2;36m                   \u001b[0m\u001b[2;36m \u001b[0m\u001b[34mINFO    \u001b[0m Loading data from \u001b[38;5;208mshuttles\u001b[0m \u001b[1m(\u001b[0mExcelDataset\u001b[1m)\u001b[0m\u001b[33m...\u001b[0m                       \u001b]8;id=292362;file://C:\\Users\\33659\\AppData\\Roaming\\mamba\\envs\\spaceflights310\\lib\\site-packages\\kedro\\io\\data_catalog.py\u001b\\\u001b[2mdata_catalog.py\u001b[0m\u001b]8;;\u001b\\\u001b[2m:\u001b[0m\u001b]8;id=986112;file://C:\\Users\\33659\\AppData\\Roaming\\mamba\\envs\\spaceflights310\\lib\\site-packages\\kedro\\io\\data_catalog.py#389\u001b\\\u001b[2m389\u001b[0m\u001b]8;;\u001b\\\n"
      ]
     },
     "metadata": {},
     "output_type": "display_data"
    },
    {
     "data": {
      "text/html": [
       "<pre style=\"white-space:pre;overflow-x:auto;line-height:normal;font-family:Menlo,'DejaVu Sans Mono',consolas,'Courier New',monospace\"></pre>\n"
      ],
      "text/plain": []
     },
     "metadata": {},
     "output_type": "display_data"
    },
    {
     "data": {
      "text/html": [
       "<div>\n",
       "<style scoped>\n",
       "    .dataframe tbody tr th:only-of-type {\n",
       "        vertical-align: middle;\n",
       "    }\n",
       "\n",
       "    .dataframe tbody tr th {\n",
       "        vertical-align: top;\n",
       "    }\n",
       "\n",
       "    .dataframe thead th {\n",
       "        text-align: right;\n",
       "    }\n",
       "</style>\n",
       "<table border=\"1\" class=\"dataframe\">\n",
       "  <thead>\n",
       "    <tr style=\"text-align: right;\">\n",
       "      <th></th>\n",
       "      <th>id</th>\n",
       "      <th>shuttle_location</th>\n",
       "      <th>shuttle_type</th>\n",
       "      <th>engine_type</th>\n",
       "      <th>engine_vendor</th>\n",
       "      <th>engines</th>\n",
       "      <th>passenger_capacity</th>\n",
       "      <th>cancellation_policy</th>\n",
       "      <th>crew</th>\n",
       "      <th>d_check_complete</th>\n",
       "      <th>moon_clearance_complete</th>\n",
       "      <th>price</th>\n",
       "      <th>company_id</th>\n",
       "    </tr>\n",
       "  </thead>\n",
       "  <tbody>\n",
       "    <tr>\n",
       "      <th>0</th>\n",
       "      <td>63561</td>\n",
       "      <td>Niue</td>\n",
       "      <td>Type V5</td>\n",
       "      <td>Quantum</td>\n",
       "      <td>ThetaBase Services</td>\n",
       "      <td>1.0</td>\n",
       "      <td>2</td>\n",
       "      <td>strict</td>\n",
       "      <td>1.0</td>\n",
       "      <td>f</td>\n",
       "      <td>f</td>\n",
       "      <td>$1,325.0</td>\n",
       "      <td>35029</td>\n",
       "    </tr>\n",
       "    <tr>\n",
       "      <th>1</th>\n",
       "      <td>36260</td>\n",
       "      <td>Anguilla</td>\n",
       "      <td>Type V5</td>\n",
       "      <td>Quantum</td>\n",
       "      <td>ThetaBase Services</td>\n",
       "      <td>1.0</td>\n",
       "      <td>2</td>\n",
       "      <td>strict</td>\n",
       "      <td>1.0</td>\n",
       "      <td>t</td>\n",
       "      <td>f</td>\n",
       "      <td>$1,780.0</td>\n",
       "      <td>30292</td>\n",
       "    </tr>\n",
       "    <tr>\n",
       "      <th>2</th>\n",
       "      <td>57015</td>\n",
       "      <td>Russian Federation</td>\n",
       "      <td>Type V5</td>\n",
       "      <td>Quantum</td>\n",
       "      <td>ThetaBase Services</td>\n",
       "      <td>1.0</td>\n",
       "      <td>2</td>\n",
       "      <td>moderate</td>\n",
       "      <td>0.0</td>\n",
       "      <td>f</td>\n",
       "      <td>f</td>\n",
       "      <td>$1,715.0</td>\n",
       "      <td>19032</td>\n",
       "    </tr>\n",
       "    <tr>\n",
       "      <th>3</th>\n",
       "      <td>14035</td>\n",
       "      <td>Barbados</td>\n",
       "      <td>Type V5</td>\n",
       "      <td>Plasma</td>\n",
       "      <td>ThetaBase Services</td>\n",
       "      <td>3.0</td>\n",
       "      <td>6</td>\n",
       "      <td>strict</td>\n",
       "      <td>3.0</td>\n",
       "      <td>f</td>\n",
       "      <td>f</td>\n",
       "      <td>$4,770.0</td>\n",
       "      <td>8238</td>\n",
       "    </tr>\n",
       "    <tr>\n",
       "      <th>4</th>\n",
       "      <td>10036</td>\n",
       "      <td>Sao Tome and Principe</td>\n",
       "      <td>Type V2</td>\n",
       "      <td>Plasma</td>\n",
       "      <td>ThetaBase Services</td>\n",
       "      <td>2.0</td>\n",
       "      <td>4</td>\n",
       "      <td>strict</td>\n",
       "      <td>2.0</td>\n",
       "      <td>f</td>\n",
       "      <td>f</td>\n",
       "      <td>$2,820.0</td>\n",
       "      <td>30342</td>\n",
       "    </tr>\n",
       "    <tr>\n",
       "      <th>...</th>\n",
       "      <td>...</td>\n",
       "      <td>...</td>\n",
       "      <td>...</td>\n",
       "      <td>...</td>\n",
       "      <td>...</td>\n",
       "      <td>...</td>\n",
       "      <td>...</td>\n",
       "      <td>...</td>\n",
       "      <td>...</td>\n",
       "      <td>...</td>\n",
       "      <td>...</td>\n",
       "      <td>...</td>\n",
       "      <td>...</td>\n",
       "    </tr>\n",
       "    <tr>\n",
       "      <th>77091</th>\n",
       "      <td>4368</td>\n",
       "      <td>Barbados</td>\n",
       "      <td>Type V5</td>\n",
       "      <td>Quantum</td>\n",
       "      <td>ThetaBase Services</td>\n",
       "      <td>2.0</td>\n",
       "      <td>4</td>\n",
       "      <td>flexible</td>\n",
       "      <td>2.0</td>\n",
       "      <td>t</td>\n",
       "      <td>f</td>\n",
       "      <td>$4,107.0</td>\n",
       "      <td>6654</td>\n",
       "    </tr>\n",
       "    <tr>\n",
       "      <th>77092</th>\n",
       "      <td>2983</td>\n",
       "      <td>Bouvet Island (Bouvetoya)</td>\n",
       "      <td>Type F5</td>\n",
       "      <td>Quantum</td>\n",
       "      <td>ThetaBase Services</td>\n",
       "      <td>1.0</td>\n",
       "      <td>1</td>\n",
       "      <td>flexible</td>\n",
       "      <td>1.0</td>\n",
       "      <td>t</td>\n",
       "      <td>f</td>\n",
       "      <td>$1,169.0</td>\n",
       "      <td>8000</td>\n",
       "    </tr>\n",
       "    <tr>\n",
       "      <th>77093</th>\n",
       "      <td>69684</td>\n",
       "      <td>Micronesia</td>\n",
       "      <td>Type V5</td>\n",
       "      <td>Plasma</td>\n",
       "      <td>ThetaBase Services</td>\n",
       "      <td>0.0</td>\n",
       "      <td>2</td>\n",
       "      <td>flexible</td>\n",
       "      <td>1.0</td>\n",
       "      <td>t</td>\n",
       "      <td>f</td>\n",
       "      <td>$1,910.0</td>\n",
       "      <td>14296</td>\n",
       "    </tr>\n",
       "    <tr>\n",
       "      <th>77094</th>\n",
       "      <td>21738</td>\n",
       "      <td>Uzbekistan</td>\n",
       "      <td>Type V5</td>\n",
       "      <td>Plasma</td>\n",
       "      <td>ThetaBase Services</td>\n",
       "      <td>1.0</td>\n",
       "      <td>2</td>\n",
       "      <td>flexible</td>\n",
       "      <td>1.0</td>\n",
       "      <td>t</td>\n",
       "      <td>f</td>\n",
       "      <td>$2,170.0</td>\n",
       "      <td>27363</td>\n",
       "    </tr>\n",
       "    <tr>\n",
       "      <th>77095</th>\n",
       "      <td>72645</td>\n",
       "      <td>Malta</td>\n",
       "      <td>Type F5</td>\n",
       "      <td>Quantum</td>\n",
       "      <td>ThetaBase Services</td>\n",
       "      <td>0.0</td>\n",
       "      <td>2</td>\n",
       "      <td>moderate</td>\n",
       "      <td>2.0</td>\n",
       "      <td>t</td>\n",
       "      <td>f</td>\n",
       "      <td>$1,455.0</td>\n",
       "      <td>12542</td>\n",
       "    </tr>\n",
       "  </tbody>\n",
       "</table>\n",
       "<p>77096 rows × 13 columns</p>\n",
       "</div>"
      ],
      "text/plain": [
       "\n",
       "          id           shuttle_location shuttle_type engine_type  \\\n",
       "\u001b[1;36m0\u001b[0m      \u001b[1;36m63561\u001b[0m                       Niue      Type V5     Quantum   \n",
       "\u001b[1;36m1\u001b[0m      \u001b[1;36m36260\u001b[0m                   Anguilla      Type V5     Quantum   \n",
       "\u001b[1;36m2\u001b[0m      \u001b[1;36m57015\u001b[0m         Russian Federation      Type V5     Quantum   \n",
       "\u001b[1;36m3\u001b[0m      \u001b[1;36m14035\u001b[0m                   Barbados      Type V5      Plasma   \n",
       "\u001b[1;36m4\u001b[0m      \u001b[1;36m10036\u001b[0m      Sao Tome and Principe      Type V2      Plasma   \n",
       "\u001b[33m...\u001b[0m      \u001b[33m...\u001b[0m                        \u001b[33m...\u001b[0m          \u001b[33m...\u001b[0m         \u001b[33m...\u001b[0m   \n",
       "\u001b[1;36m77091\u001b[0m   \u001b[1;36m4368\u001b[0m                   Barbados      Type V5     Quantum   \n",
       "\u001b[1;36m77092\u001b[0m   \u001b[1;36m2983\u001b[0m  Bouvet Island \u001b[1m(\u001b[0mBouvetoya\u001b[1m)\u001b[0m      Type F5     Quantum   \n",
       "\u001b[1;36m77093\u001b[0m  \u001b[1;36m69684\u001b[0m                 Micronesia      Type V5      Plasma   \n",
       "\u001b[1;36m77094\u001b[0m  \u001b[1;36m21738\u001b[0m                 Uzbekistan      Type V5      Plasma   \n",
       "\u001b[1;36m77095\u001b[0m  \u001b[1;36m72645\u001b[0m                      Malta      Type F5     Quantum   \n",
       "\n",
       "            engine_vendor  engines  passenger_capacity cancellation_policy  \\\n",
       "\u001b[1;36m0\u001b[0m      ThetaBase Services      \u001b[1;36m1.0\u001b[0m                   \u001b[1;36m2\u001b[0m              strict   \n",
       "\u001b[1;36m1\u001b[0m      ThetaBase Services      \u001b[1;36m1.0\u001b[0m                   \u001b[1;36m2\u001b[0m              strict   \n",
       "\u001b[1;36m2\u001b[0m      ThetaBase Services      \u001b[1;36m1.0\u001b[0m                   \u001b[1;36m2\u001b[0m            moderate   \n",
       "\u001b[1;36m3\u001b[0m      ThetaBase Services      \u001b[1;36m3.0\u001b[0m                   \u001b[1;36m6\u001b[0m              strict   \n",
       "\u001b[1;36m4\u001b[0m      ThetaBase Services      \u001b[1;36m2.0\u001b[0m                   \u001b[1;36m4\u001b[0m              strict   \n",
       "\u001b[33m...\u001b[0m                   \u001b[33m...\u001b[0m      \u001b[33m...\u001b[0m                 \u001b[33m...\u001b[0m                 \u001b[33m...\u001b[0m   \n",
       "\u001b[1;36m77091\u001b[0m  ThetaBase Services      \u001b[1;36m2.0\u001b[0m                   \u001b[1;36m4\u001b[0m            flexible   \n",
       "\u001b[1;36m77092\u001b[0m  ThetaBase Services      \u001b[1;36m1.0\u001b[0m                   \u001b[1;36m1\u001b[0m            flexible   \n",
       "\u001b[1;36m77093\u001b[0m  ThetaBase Services      \u001b[1;36m0.0\u001b[0m                   \u001b[1;36m2\u001b[0m            flexible   \n",
       "\u001b[1;36m77094\u001b[0m  ThetaBase Services      \u001b[1;36m1.0\u001b[0m                   \u001b[1;36m2\u001b[0m            flexible   \n",
       "\u001b[1;36m77095\u001b[0m  ThetaBase Services      \u001b[1;36m0.0\u001b[0m                   \u001b[1;36m2\u001b[0m            moderate   \n",
       "\n",
       "       crew d_check_complete moon_clearance_complete     price  company_id  \n",
       "\u001b[1;36m0\u001b[0m       \u001b[1;36m1.0\u001b[0m                f                       f  $\u001b[1;36m1\u001b[0m,\u001b[1;36m325.0\u001b[0m       \u001b[1;36m35029\u001b[0m  \n",
       "\u001b[1;36m1\u001b[0m       \u001b[1;36m1.0\u001b[0m                t                       f  $\u001b[1;36m1\u001b[0m,\u001b[1;36m780.0\u001b[0m       \u001b[1;36m30292\u001b[0m  \n",
       "\u001b[1;36m2\u001b[0m       \u001b[1;36m0.0\u001b[0m                f                       f  $\u001b[1;36m1\u001b[0m,\u001b[1;36m715.0\u001b[0m       \u001b[1;36m19032\u001b[0m  \n",
       "\u001b[1;36m3\u001b[0m       \u001b[1;36m3.0\u001b[0m                f                       f  $\u001b[1;36m4\u001b[0m,\u001b[1;36m770.0\u001b[0m        \u001b[1;36m8238\u001b[0m  \n",
       "\u001b[1;36m4\u001b[0m       \u001b[1;36m2.0\u001b[0m                f                       f  $\u001b[1;36m2\u001b[0m,\u001b[1;36m820.0\u001b[0m       \u001b[1;36m30342\u001b[0m  \n",
       "\u001b[33m...\u001b[0m     \u001b[33m...\u001b[0m              \u001b[33m...\u001b[0m                     \u001b[33m...\u001b[0m       \u001b[33m...\u001b[0m         \u001b[33m...\u001b[0m  \n",
       "\u001b[1;36m77091\u001b[0m   \u001b[1;36m2.0\u001b[0m                t                       f  $\u001b[1;36m4\u001b[0m,\u001b[1;36m107.0\u001b[0m        \u001b[1;36m6654\u001b[0m  \n",
       "\u001b[1;36m77092\u001b[0m   \u001b[1;36m1.0\u001b[0m                t                       f  $\u001b[1;36m1\u001b[0m,\u001b[1;36m169.0\u001b[0m        \u001b[1;36m8000\u001b[0m  \n",
       "\u001b[1;36m77093\u001b[0m   \u001b[1;36m1.0\u001b[0m                t                       f  $\u001b[1;36m1\u001b[0m,\u001b[1;36m910.0\u001b[0m       \u001b[1;36m14296\u001b[0m  \n",
       "\u001b[1;36m77094\u001b[0m   \u001b[1;36m1.0\u001b[0m                t                       f  $\u001b[1;36m2\u001b[0m,\u001b[1;36m170.0\u001b[0m       \u001b[1;36m27363\u001b[0m  \n",
       "\u001b[1;36m77095\u001b[0m   \u001b[1;36m2.0\u001b[0m                t                       f  $\u001b[1;36m1\u001b[0m,\u001b[1;36m455.0\u001b[0m       \u001b[1;36m12542\u001b[0m  \n",
       "\n",
       "\u001b[1m[\u001b[0m\u001b[1;36m77096\u001b[0m rows x \u001b[1;36m13\u001b[0m columns\u001b[1m]\u001b[0m"
      ]
     },
     "execution_count": 17,
     "metadata": {},
     "output_type": "execute_result"
    }
   ],
   "source": [
    "catalog.load(\"shuttles\")"
   ]
  },
  {
   "cell_type": "code",
   "execution_count": 18,
   "id": "ca78f2c4-d9da-400d-ade3-885586ff97c6",
   "metadata": {},
   "outputs": [
    {
     "data": {
      "text/html": [
       "<pre style=\"white-space:pre;overflow-x:auto;line-height:normal;font-family:Menlo,'DejaVu Sans Mono',consolas,'Courier New',monospace\"><span style=\"color: #7fbfbf; text-decoration-color: #7fbfbf\">[11/25/24 08:45:14] </span><span style=\"color: #000080; text-decoration-color: #000080\">INFO    </span> Loading data from <span style=\"color: #ff8700; text-decoration-color: #ff8700\">reviews</span> <span style=\"font-weight: bold\">(</span>CSVDataset<span style=\"font-weight: bold\">)</span><span style=\"color: #808000; text-decoration-color: #808000\">...</span>                          <a href=\"file://C:\\Users\\33659\\AppData\\Roaming\\mamba\\envs\\spaceflights310\\lib\\site-packages\\kedro\\io\\data_catalog.py\" target=\"_blank\"><span style=\"color: #7f7f7f; text-decoration-color: #7f7f7f\">data_catalog.py</span></a><span style=\"color: #7f7f7f; text-decoration-color: #7f7f7f\">:</span><a href=\"file://C:\\Users\\33659\\AppData\\Roaming\\mamba\\envs\\spaceflights310\\lib\\site-packages\\kedro\\io\\data_catalog.py#389\" target=\"_blank\"><span style=\"color: #7f7f7f; text-decoration-color: #7f7f7f\">389</span></a>\n",
       "</pre>\n"
      ],
      "text/plain": [
       "\u001b[2;36m[11/25/24 08:45:14]\u001b[0m\u001b[2;36m \u001b[0m\u001b[34mINFO    \u001b[0m Loading data from \u001b[38;5;208mreviews\u001b[0m \u001b[1m(\u001b[0mCSVDataset\u001b[1m)\u001b[0m\u001b[33m...\u001b[0m                          \u001b]8;id=110539;file://C:\\Users\\33659\\AppData\\Roaming\\mamba\\envs\\spaceflights310\\lib\\site-packages\\kedro\\io\\data_catalog.py\u001b\\\u001b[2mdata_catalog.py\u001b[0m\u001b]8;;\u001b\\\u001b[2m:\u001b[0m\u001b]8;id=824695;file://C:\\Users\\33659\\AppData\\Roaming\\mamba\\envs\\spaceflights310\\lib\\site-packages\\kedro\\io\\data_catalog.py#389\u001b\\\u001b[2m389\u001b[0m\u001b]8;;\u001b\\\n"
      ]
     },
     "metadata": {},
     "output_type": "display_data"
    },
    {
     "data": {
      "text/html": [
       "<pre style=\"white-space:pre;overflow-x:auto;line-height:normal;font-family:Menlo,'DejaVu Sans Mono',consolas,'Courier New',monospace\"></pre>\n"
      ],
      "text/plain": []
     },
     "metadata": {},
     "output_type": "display_data"
    },
    {
     "data": {
      "text/html": [
       "<div>\n",
       "<style scoped>\n",
       "    .dataframe tbody tr th:only-of-type {\n",
       "        vertical-align: middle;\n",
       "    }\n",
       "\n",
       "    .dataframe tbody tr th {\n",
       "        vertical-align: top;\n",
       "    }\n",
       "\n",
       "    .dataframe thead th {\n",
       "        text-align: right;\n",
       "    }\n",
       "</style>\n",
       "<table border=\"1\" class=\"dataframe\">\n",
       "  <thead>\n",
       "    <tr style=\"text-align: right;\">\n",
       "      <th></th>\n",
       "      <th>shuttle_id</th>\n",
       "      <th>review_scores_rating</th>\n",
       "      <th>review_scores_comfort</th>\n",
       "      <th>review_scores_amenities</th>\n",
       "      <th>review_scores_trip</th>\n",
       "      <th>review_scores_crew</th>\n",
       "      <th>review_scores_location</th>\n",
       "      <th>review_scores_price</th>\n",
       "      <th>number_of_reviews</th>\n",
       "      <th>reviews_per_month</th>\n",
       "    </tr>\n",
       "  </thead>\n",
       "  <tbody>\n",
       "    <tr>\n",
       "      <th>0</th>\n",
       "      <td>63561</td>\n",
       "      <td>97.0</td>\n",
       "      <td>10.0</td>\n",
       "      <td>9.0</td>\n",
       "      <td>10.0</td>\n",
       "      <td>10.0</td>\n",
       "      <td>9.0</td>\n",
       "      <td>10.0</td>\n",
       "      <td>133</td>\n",
       "      <td>1.65</td>\n",
       "    </tr>\n",
       "    <tr>\n",
       "      <th>1</th>\n",
       "      <td>36260</td>\n",
       "      <td>90.0</td>\n",
       "      <td>8.0</td>\n",
       "      <td>9.0</td>\n",
       "      <td>10.0</td>\n",
       "      <td>9.0</td>\n",
       "      <td>9.0</td>\n",
       "      <td>9.0</td>\n",
       "      <td>3</td>\n",
       "      <td>0.09</td>\n",
       "    </tr>\n",
       "    <tr>\n",
       "      <th>2</th>\n",
       "      <td>57015</td>\n",
       "      <td>95.0</td>\n",
       "      <td>9.0</td>\n",
       "      <td>10.0</td>\n",
       "      <td>9.0</td>\n",
       "      <td>10.0</td>\n",
       "      <td>9.0</td>\n",
       "      <td>9.0</td>\n",
       "      <td>14</td>\n",
       "      <td>0.14</td>\n",
       "    </tr>\n",
       "    <tr>\n",
       "      <th>3</th>\n",
       "      <td>14035</td>\n",
       "      <td>93.0</td>\n",
       "      <td>10.0</td>\n",
       "      <td>9.0</td>\n",
       "      <td>9.0</td>\n",
       "      <td>9.0</td>\n",
       "      <td>10.0</td>\n",
       "      <td>9.0</td>\n",
       "      <td>39</td>\n",
       "      <td>0.42</td>\n",
       "    </tr>\n",
       "    <tr>\n",
       "      <th>4</th>\n",
       "      <td>10036</td>\n",
       "      <td>98.0</td>\n",
       "      <td>10.0</td>\n",
       "      <td>10.0</td>\n",
       "      <td>10.0</td>\n",
       "      <td>10.0</td>\n",
       "      <td>9.0</td>\n",
       "      <td>9.0</td>\n",
       "      <td>92</td>\n",
       "      <td>0.94</td>\n",
       "    </tr>\n",
       "    <tr>\n",
       "      <th>...</th>\n",
       "      <td>...</td>\n",
       "      <td>...</td>\n",
       "      <td>...</td>\n",
       "      <td>...</td>\n",
       "      <td>...</td>\n",
       "      <td>...</td>\n",
       "      <td>...</td>\n",
       "      <td>...</td>\n",
       "      <td>...</td>\n",
       "      <td>...</td>\n",
       "    </tr>\n",
       "    <tr>\n",
       "      <th>77091</th>\n",
       "      <td>4368</td>\n",
       "      <td>NaN</td>\n",
       "      <td>NaN</td>\n",
       "      <td>NaN</td>\n",
       "      <td>NaN</td>\n",
       "      <td>NaN</td>\n",
       "      <td>NaN</td>\n",
       "      <td>NaN</td>\n",
       "      <td>0</td>\n",
       "      <td>NaN</td>\n",
       "    </tr>\n",
       "    <tr>\n",
       "      <th>77092</th>\n",
       "      <td>2983</td>\n",
       "      <td>NaN</td>\n",
       "      <td>NaN</td>\n",
       "      <td>NaN</td>\n",
       "      <td>NaN</td>\n",
       "      <td>NaN</td>\n",
       "      <td>NaN</td>\n",
       "      <td>NaN</td>\n",
       "      <td>0</td>\n",
       "      <td>NaN</td>\n",
       "    </tr>\n",
       "    <tr>\n",
       "      <th>77093</th>\n",
       "      <td>69684</td>\n",
       "      <td>NaN</td>\n",
       "      <td>NaN</td>\n",
       "      <td>NaN</td>\n",
       "      <td>NaN</td>\n",
       "      <td>NaN</td>\n",
       "      <td>NaN</td>\n",
       "      <td>NaN</td>\n",
       "      <td>0</td>\n",
       "      <td>NaN</td>\n",
       "    </tr>\n",
       "    <tr>\n",
       "      <th>77094</th>\n",
       "      <td>21738</td>\n",
       "      <td>NaN</td>\n",
       "      <td>NaN</td>\n",
       "      <td>NaN</td>\n",
       "      <td>NaN</td>\n",
       "      <td>NaN</td>\n",
       "      <td>NaN</td>\n",
       "      <td>NaN</td>\n",
       "      <td>0</td>\n",
       "      <td>NaN</td>\n",
       "    </tr>\n",
       "    <tr>\n",
       "      <th>77095</th>\n",
       "      <td>72645</td>\n",
       "      <td>NaN</td>\n",
       "      <td>NaN</td>\n",
       "      <td>NaN</td>\n",
       "      <td>NaN</td>\n",
       "      <td>NaN</td>\n",
       "      <td>NaN</td>\n",
       "      <td>NaN</td>\n",
       "      <td>0</td>\n",
       "      <td>NaN</td>\n",
       "    </tr>\n",
       "  </tbody>\n",
       "</table>\n",
       "<p>77096 rows × 10 columns</p>\n",
       "</div>"
      ],
      "text/plain": [
       "\n",
       "       shuttle_id  review_scores_rating  review_scores_comfort  \\\n",
       "\u001b[1;36m0\u001b[0m           \u001b[1;36m63561\u001b[0m                  \u001b[1;36m97.0\u001b[0m                   \u001b[1;36m10.0\u001b[0m   \n",
       "\u001b[1;36m1\u001b[0m           \u001b[1;36m36260\u001b[0m                  \u001b[1;36m90.0\u001b[0m                    \u001b[1;36m8.0\u001b[0m   \n",
       "\u001b[1;36m2\u001b[0m           \u001b[1;36m57015\u001b[0m                  \u001b[1;36m95.0\u001b[0m                    \u001b[1;36m9.0\u001b[0m   \n",
       "\u001b[1;36m3\u001b[0m           \u001b[1;36m14035\u001b[0m                  \u001b[1;36m93.0\u001b[0m                   \u001b[1;36m10.0\u001b[0m   \n",
       "\u001b[1;36m4\u001b[0m           \u001b[1;36m10036\u001b[0m                  \u001b[1;36m98.0\u001b[0m                   \u001b[1;36m10.0\u001b[0m   \n",
       "\u001b[33m...\u001b[0m           \u001b[33m...\u001b[0m                   \u001b[33m...\u001b[0m                    \u001b[33m...\u001b[0m   \n",
       "\u001b[1;36m77091\u001b[0m        \u001b[1;36m4368\u001b[0m                   NaN                    NaN   \n",
       "\u001b[1;36m77092\u001b[0m        \u001b[1;36m2983\u001b[0m                   NaN                    NaN   \n",
       "\u001b[1;36m77093\u001b[0m       \u001b[1;36m69684\u001b[0m                   NaN                    NaN   \n",
       "\u001b[1;36m77094\u001b[0m       \u001b[1;36m21738\u001b[0m                   NaN                    NaN   \n",
       "\u001b[1;36m77095\u001b[0m       \u001b[1;36m72645\u001b[0m                   NaN                    NaN   \n",
       "\n",
       "       review_scores_amenities  review_scores_trip  review_scores_crew  \\\n",
       "\u001b[1;36m0\u001b[0m                          \u001b[1;36m9.0\u001b[0m                \u001b[1;36m10.0\u001b[0m                \u001b[1;36m10.0\u001b[0m   \n",
       "\u001b[1;36m1\u001b[0m                          \u001b[1;36m9.0\u001b[0m                \u001b[1;36m10.0\u001b[0m                 \u001b[1;36m9.0\u001b[0m   \n",
       "\u001b[1;36m2\u001b[0m                         \u001b[1;36m10.0\u001b[0m                 \u001b[1;36m9.0\u001b[0m                \u001b[1;36m10.0\u001b[0m   \n",
       "\u001b[1;36m3\u001b[0m                          \u001b[1;36m9.0\u001b[0m                 \u001b[1;36m9.0\u001b[0m                 \u001b[1;36m9.0\u001b[0m   \n",
       "\u001b[1;36m4\u001b[0m                         \u001b[1;36m10.0\u001b[0m                \u001b[1;36m10.0\u001b[0m                \u001b[1;36m10.0\u001b[0m   \n",
       "\u001b[33m...\u001b[0m                        \u001b[33m...\u001b[0m                 \u001b[33m...\u001b[0m                 \u001b[33m...\u001b[0m   \n",
       "\u001b[1;36m77091\u001b[0m                      NaN                 NaN                 NaN   \n",
       "\u001b[1;36m77092\u001b[0m                      NaN                 NaN                 NaN   \n",
       "\u001b[1;36m77093\u001b[0m                      NaN                 NaN                 NaN   \n",
       "\u001b[1;36m77094\u001b[0m                      NaN                 NaN                 NaN   \n",
       "\u001b[1;36m77095\u001b[0m                      NaN                 NaN                 NaN   \n",
       "\n",
       "       review_scores_location  review_scores_price  number_of_reviews  \\\n",
       "\u001b[1;36m0\u001b[0m                         \u001b[1;36m9.0\u001b[0m                 \u001b[1;36m10.0\u001b[0m                \u001b[1;36m133\u001b[0m   \n",
       "\u001b[1;36m1\u001b[0m                         \u001b[1;36m9.0\u001b[0m                  \u001b[1;36m9.0\u001b[0m                  \u001b[1;36m3\u001b[0m   \n",
       "\u001b[1;36m2\u001b[0m                         \u001b[1;36m9.0\u001b[0m                  \u001b[1;36m9.0\u001b[0m                 \u001b[1;36m14\u001b[0m   \n",
       "\u001b[1;36m3\u001b[0m                        \u001b[1;36m10.0\u001b[0m                  \u001b[1;36m9.0\u001b[0m                 \u001b[1;36m39\u001b[0m   \n",
       "\u001b[1;36m4\u001b[0m                         \u001b[1;36m9.0\u001b[0m                  \u001b[1;36m9.0\u001b[0m                 \u001b[1;36m92\u001b[0m   \n",
       "\u001b[33m...\u001b[0m                       \u001b[33m...\u001b[0m                  \u001b[33m...\u001b[0m                \u001b[33m...\u001b[0m   \n",
       "\u001b[1;36m77091\u001b[0m                     NaN                  NaN                  \u001b[1;36m0\u001b[0m   \n",
       "\u001b[1;36m77092\u001b[0m                     NaN                  NaN                  \u001b[1;36m0\u001b[0m   \n",
       "\u001b[1;36m77093\u001b[0m                     NaN                  NaN                  \u001b[1;36m0\u001b[0m   \n",
       "\u001b[1;36m77094\u001b[0m                     NaN                  NaN                  \u001b[1;36m0\u001b[0m   \n",
       "\u001b[1;36m77095\u001b[0m                     NaN                  NaN                  \u001b[1;36m0\u001b[0m   \n",
       "\n",
       "       reviews_per_month  \n",
       "\u001b[1;36m0\u001b[0m                   \u001b[1;36m1.65\u001b[0m  \n",
       "\u001b[1;36m1\u001b[0m                   \u001b[1;36m0.09\u001b[0m  \n",
       "\u001b[1;36m2\u001b[0m                   \u001b[1;36m0.14\u001b[0m  \n",
       "\u001b[1;36m3\u001b[0m                   \u001b[1;36m0.42\u001b[0m  \n",
       "\u001b[1;36m4\u001b[0m                   \u001b[1;36m0.94\u001b[0m  \n",
       "\u001b[33m...\u001b[0m                  \u001b[33m...\u001b[0m  \n",
       "\u001b[1;36m77091\u001b[0m                NaN  \n",
       "\u001b[1;36m77092\u001b[0m                NaN  \n",
       "\u001b[1;36m77093\u001b[0m                NaN  \n",
       "\u001b[1;36m77094\u001b[0m                NaN  \n",
       "\u001b[1;36m77095\u001b[0m                NaN  \n",
       "\n",
       "\u001b[1m[\u001b[0m\u001b[1;36m77096\u001b[0m rows x \u001b[1;36m10\u001b[0m columns\u001b[1m]\u001b[0m"
      ]
     },
     "execution_count": 18,
     "metadata": {},
     "output_type": "execute_result"
    }
   ],
   "source": [
    "catalog.load(\"reviews\")"
   ]
  },
  {
   "cell_type": "code",
   "execution_count": null,
   "id": "9f906a6f-d796-4e3f-86a1-ab5d88b289b0",
   "metadata": {},
   "outputs": [],
   "source": []
  }
 ],
 "metadata": {
  "kernelspec": {
   "display_name": "Python 3 (ipykernel)",
   "language": "python",
   "name": "python3"
  },
  "language_info": {
   "codemirror_mode": {
    "name": "ipython",
    "version": 3
   },
   "file_extension": ".py",
   "mimetype": "text/x-python",
   "name": "python",
   "nbconvert_exporter": "python",
   "pygments_lexer": "ipython3",
   "version": "3.10.15"
  }
 },
 "nbformat": 4,
 "nbformat_minor": 5
}
